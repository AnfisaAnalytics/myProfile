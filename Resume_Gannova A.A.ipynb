{
 "cells": [
  {
   "cell_type": "markdown",
   "id": "0791cbd4",
   "metadata": {},
   "source": [
    "<img src=\"photo.png\" width=\"200\" style=''>\n",
    "\n",
    "\n",
    "# Ганнова Анфиса\n",
    "### Аналитик разработчик\n",
    "[Telegram](https://t.me/anfisso) | [anfisa.analytics@yahoo.com](https://mail.yahoo.com)\n",
    "\n"
   ]
  }
 ],
 "metadata": {
  "kernelspec": {
   "display_name": "Python 3 (ipykernel)",
   "language": "python",
   "name": "python3"
  },
  "language_info": {
   "codemirror_mode": {
    "name": "ipython",
    "version": 3
   },
   "file_extension": ".py",
   "mimetype": "text/x-python",
   "name": "python",
   "nbconvert_exporter": "python",
   "pygments_lexer": "ipython3",
   "version": "3.9.13"
  }
 },
 "nbformat": 4,
 "nbformat_minor": 5
}
