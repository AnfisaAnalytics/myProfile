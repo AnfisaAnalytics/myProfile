{
 "cells": [
  {
   "cell_type": "markdown",
   "id": "5a3e5afe",
   "metadata": {},
   "source": [
    "<div align=\"center\" style='font-size: 21px; margin: 21px'><u><b>Классификация удовлетворённости пассажира</b><u></div>\n",
    " <div align=\"right\"style=' margin-bottom: 21px'><u><b>* Построение модели для классификации удовлетворённости пассажира </b><u></div>\n",
    "        "
   ]
  },
  {
   "cell_type": "markdown",
   "id": "f75f296b",
   "metadata": {},
   "source": [
    "<b>Удовлетворенность</b> — это субъективная оценка потребителем степени удовлетворения желаний и требований, возникающих при приобретении или потреблении предоставленного продукта или услуги, а возможность повторного использования — это возможность того, что покупатель будет продолжать использовать продукт или услугу повторно после покупки. Чтобы доказать корреляцию между удовлетворенностью клиентов и намерением повторного использования, была продемонстрирована высокая корреляция между переменными путем проведения анализа корреляции между удовлетворенностью клиентов и намерением повторного использования для предприятий быстрого питания, предприятий по борьбе с вредителями, банков и прачечных за границей. Данные этого исследования представляют собой данные об удовлетворенности клиентов авиакомпаний, в том числе пол, возраст, питание и напитки на борту, удобство сидений и т. д. Они собираются Google Kaggle. Внедрение модели прогнозирования удовлетворенности клиентов авиакомпании и оценка эффективности выполняются с предварительной обработкой.\n",
    "\n",
    "</p><b>Satisfaction</b> is a consumer's subjective evaluation of the extent to which desires and demands arising from\n",
    "acquiring or consuming a provided product orservice are satisfied, and reusability isthe possibility that the customer\n",
    "will continue to use the product or service repeatedly after purchasing. To prove the correlation between\n",
    "customer satisfaction and reuse intention, a high correlation between variables is demonstrated by conducting a\n",
    "correlation analysis between customer satisfaction and reuse intention for fast food businesses, pest control\n",
    "businesses, banks, and laundry businesses overseas. \n",
    "<p>\n",
    "    The data on this study are <b>Airline customer satisfaction data</b>, which are including gender, age, food and beverages\n",
    "provided on board, seat comfort, etc. They are collected by <b>Google's Kaggle</b>.\n",
    "\n",
    "Airline customer satisfaction prediction model implementation, and performance evaluation are conducted with pre-processing."
   ]
  },
  {
   "cell_type": "markdown",
   "id": "015b0c3e",
   "metadata": {},
   "source": [
    "<!-- <a id=\"ref3\"></a> \n",
    " -->\n",
    " [rer](#ref2)\n",
    "<div style=\"background-color: #BDDBF9; margin-top: 8px; padding: 22px; box-shadow: rgba(0, 0, 0, 0.16) 0px 1px 4px;\">\n",
    "    <p style='font-size: 21px'>Содержание</p>\n",
    "    <ol>\n",
    "        <li><a style='' href=\"#ref1\">Описание данных</a></li>\n",
    "        <li><a style='' href=\"#ref2\">Импорт данных и подготовка</a></li>\n",
    "        <li><a style='' href=\"#ref3\">Изучение данных</a></li>\n",
    "        <li><a style='' href=\"#ref4\">Очистка данных</a></li>\n",
    "        <li><a style='' href=\"#ref5\">Визуализация данных</a></li>\n",
    "        <li><a style='' href=\"#ref6\">Создание модели</a></li> \n",
    "        <li><a style='' href=\"#ref7\">Заключение</a></li>\n",
    "    </ol>\n",
    "</div>"
   ]
  },
  {
   "cell_type": "markdown",
   "id": "a9aeac02",
   "metadata": {},
   "source": [
    "<a id=\"ref2\"></a> \n",
    "### Импорт библиотек, функций"
   ]
  },
  {
   "cell_type": "code",
   "execution_count": 1,
   "id": "5708b7a1",
   "metadata": {},
   "outputs": [
    {
     "name": "stderr",
     "output_type": "stream",
     "text": [
      "/var/folders/9_/ll5ms3kn1cvgh7ng385rxvq40000gn/T/ipykernel_3574/3052843872.py:5: DeprecationWarning: `import pandas_profiling` is going to be deprecated by April 1st. Please use `import ydata_profiling` instead.\n",
      "  from pandas_profiling import ProfileReport\n"
     ]
    },
    {
     "name": "stdout",
     "output_type": "stream",
     "text": [
      "This script was made to run only on Google Colab notebooks, other environments was not tested completely\n",
      "You are not in Colab envirement, make sure you already have Plotly > 4.9.0 and kaleido\n"
     ]
    }
   ],
   "source": [
    "import numpy as np\n",
    "import pandas as pd\n",
    "import matplotlib.pyplot as plt\n",
    "import seaborn as sns\n",
    "from pandas_profiling import ProfileReport\n",
    "from sklearn.model_selection import train_test_split\n",
    "from sklearn.metrics import accuracy_score, classification_report,confusion_matrix,plot_confusion_matrix, plot_roc_curve,roc_auc_score\n",
    "from sklearn.ensemble import RandomForestClassifier\n",
    "from sklearn.linear_model import LogisticRegression\n",
    "from sklearn.naive_bayes import GaussianNB\n",
    "from sklearn.neighbors import KNeighborsClassifier\n",
    "from sklearn.tree import DecisionTreeClassifier\n",
    "from sklearn.ensemble import AdaBoostClassifier\n",
    "%matplotlib inline\n",
    "import time\n",
    "from gitly.colab.plot import GitlyPlotter\n",
    "gitly = GitlyPlotter('github')\n",
    "import plotly.express as px\n",
    "import warnings\n",
    "warnings.filterwarnings('ignore')"
   ]
  },
  {
   "cell_type": "code",
   "execution_count": 2,
   "id": "39acd0ef",
   "metadata": {},
   "outputs": [],
   "source": [
    "def show_missing(df):\n",
    "    \"\"\"Возвращает df - тип, количество, кол.уникальных, NaN и % NaN\"\"\"\n",
    "    \n",
    "    variables = []\n",
    "    dtypes = []\n",
    "    count = []\n",
    "    unique = []\n",
    "    missing = []\n",
    "    pc_missing = []\n",
    "    \n",
    "    for item in df.columns:\n",
    "        variables.append(item)\n",
    "        dtypes.append(df[item].dtype)\n",
    "        count.append(len(df[item]))\n",
    "        unique.append(len(df[item].unique()))\n",
    "        missing.append(df[item].isna().sum())\n",
    "        pc_missing.append(round((df[item].isna().sum() / len(df[item])) * 100, 2))\n",
    "\n",
    "    output = pd.DataFrame({\n",
    "        'Колонка': variables, \n",
    "        'Тип значений': dtypes,\n",
    "        'Количество значений': count,\n",
    "        'Кол.уникальные значения': unique,\n",
    "        'Кол.NaN': missing, \n",
    "        '% NaN': pc_missing\n",
    "    })    \n",
    "        \n",
    "    return output"
   ]
  },
  {
   "cell_type": "markdown",
   "id": "e0ff208f",
   "metadata": {},
   "source": [
    "<br>\n",
    "\n",
    "### Чтение и подготовка данных "
   ]
  },
  {
   "cell_type": "code",
   "execution_count": 3,
   "id": "ce3dc364",
   "metadata": {},
   "outputs": [],
   "source": [
    "df = pd.read_csv(\"../f/Airline_Passenger_Satisfaction.csv\", usecols=range(1,25))"
   ]
  },
  {
   "cell_type": "code",
   "execution_count": 4,
   "id": "190d4cba",
   "metadata": {
    "scrolled": true
   },
   "outputs": [
    {
     "data": {
      "text/html": [
       "<div><div id=7d20f697-bc90-41e8-bde6-ad1997e01173 style=\"display:none; background-color:#9D6CFF; color:white; width:200px; height:30px; padding-left:5px; border-radius:4px; flex-direction:row; justify-content:space-around; align-items:center;\" onmouseover=\"this.style.backgroundColor='#BA9BF8'\" onmouseout=\"this.style.backgroundColor='#9D6CFF'\" onclick=\"window.commands?.execute('create-mitosheet-from-dataframe-output');\">See Full Dataframe in Mito</div> <script> if (window.commands?.hasCommand('create-mitosheet-from-dataframe-output')) document.getElementById('7d20f697-bc90-41e8-bde6-ad1997e01173').style.display = 'flex' </script> <table border=\"1\" class=\"dataframe\">\n",
       "  <thead>\n",
       "    <tr style=\"text-align: right;\">\n",
       "      <th></th>\n",
       "      <th>ID</th>\n",
       "      <th>Пол</th>\n",
       "      <th>Возраст</th>\n",
       "      <th>Тип клиента</th>\n",
       "      <th>Тип путешествия</th>\n",
       "      <th>Класс</th>\n",
       "      <th>Дальность полёта</th>\n",
       "      <th>Задержка вылета</th>\n",
       "      <th>Задержка прибытия</th>\n",
       "      <th>Удобство времени вылета и прибытия</th>\n",
       "      <th>Простота онлайн бронирования</th>\n",
       "      <th>Услуга регистрации заезда</th>\n",
       "      <th>Онлайн-посадка</th>\n",
       "      <th>Расположение ворот</th>\n",
       "      <th>Обслуживание на борту</th>\n",
       "      <th>Комфорт сидения</th>\n",
       "      <th>Обслуживание в номерах для ног</th>\n",
       "      <th>Чистоплотность</th>\n",
       "      <th>Еда и напитки</th>\n",
       "      <th>Обслуживание понимаете</th>\n",
       "      <th>Услуга wi-fi в полёте</th>\n",
       "      <th>Развлечения на борту</th>\n",
       "      <th>Обработка багажа</th>\n",
       "      <th>Удовлетворённость</th>\n",
       "    </tr>\n",
       "  </thead>\n",
       "  <tbody>\n",
       "    <tr>\n",
       "      <th>40968</th>\n",
       "      <td>40969</td>\n",
       "      <td>Женщина</td>\n",
       "      <td>36</td>\n",
       "      <td>Возвращаемый</td>\n",
       "      <td>Личный</td>\n",
       "      <td>Эконом класс</td>\n",
       "      <td>507</td>\n",
       "      <td>0</td>\n",
       "      <td>0.0</td>\n",
       "      <td>5</td>\n",
       "      <td>2</td>\n",
       "      <td>4</td>\n",
       "      <td>2</td>\n",
       "      <td>3</td>\n",
       "      <td>1</td>\n",
       "      <td>4</td>\n",
       "      <td>5</td>\n",
       "      <td>4</td>\n",
       "      <td>4</td>\n",
       "      <td>3</td>\n",
       "      <td>2</td>\n",
       "      <td>4</td>\n",
       "      <td>5</td>\n",
       "      <td>Удовлетворённый</td>\n",
       "    </tr>\n",
       "    <tr>\n",
       "      <th>94026</th>\n",
       "      <td>94027</td>\n",
       "      <td>Женщина</td>\n",
       "      <td>47</td>\n",
       "      <td>Возвращаемый</td>\n",
       "      <td>Бизнес</td>\n",
       "      <td>Бизнес класс</td>\n",
       "      <td>2063</td>\n",
       "      <td>17</td>\n",
       "      <td>6.0</td>\n",
       "      <td>4</td>\n",
       "      <td>1</td>\n",
       "      <td>5</td>\n",
       "      <td>5</td>\n",
       "      <td>4</td>\n",
       "      <td>4</td>\n",
       "      <td>5</td>\n",
       "      <td>4</td>\n",
       "      <td>4</td>\n",
       "      <td>2</td>\n",
       "      <td>4</td>\n",
       "      <td>4</td>\n",
       "      <td>4</td>\n",
       "      <td>4</td>\n",
       "      <td>Неудовлетворённый</td>\n",
       "    </tr>\n",
       "    <tr>\n",
       "      <th>60618</th>\n",
       "      <td>60619</td>\n",
       "      <td>Женщина</td>\n",
       "      <td>52</td>\n",
       "      <td>Возвращаемый</td>\n",
       "      <td>Бизнес</td>\n",
       "      <td>Бизнес класс</td>\n",
       "      <td>1201</td>\n",
       "      <td>0</td>\n",
       "      <td>0.0</td>\n",
       "      <td>1</td>\n",
       "      <td>4</td>\n",
       "      <td>3</td>\n",
       "      <td>4</td>\n",
       "      <td>1</td>\n",
       "      <td>4</td>\n",
       "      <td>5</td>\n",
       "      <td>4</td>\n",
       "      <td>5</td>\n",
       "      <td>5</td>\n",
       "      <td>4</td>\n",
       "      <td>1</td>\n",
       "      <td>4</td>\n",
       "      <td>4</td>\n",
       "      <td>Неудовлетворённый</td>\n",
       "    </tr>\n",
       "    <tr>\n",
       "      <th>5893</th>\n",
       "      <td>5894</td>\n",
       "      <td>Мужчина</td>\n",
       "      <td>54</td>\n",
       "      <td>Возвращаемый</td>\n",
       "      <td>Бизнес</td>\n",
       "      <td>Бизнес класс</td>\n",
       "      <td>3295</td>\n",
       "      <td>0</td>\n",
       "      <td>1.0</td>\n",
       "      <td>1</td>\n",
       "      <td>1</td>\n",
       "      <td>5</td>\n",
       "      <td>4</td>\n",
       "      <td>1</td>\n",
       "      <td>5</td>\n",
       "      <td>4</td>\n",
       "      <td>5</td>\n",
       "      <td>5</td>\n",
       "      <td>5</td>\n",
       "      <td>5</td>\n",
       "      <td>1</td>\n",
       "      <td>5</td>\n",
       "      <td>5</td>\n",
       "      <td>Неудовлетворённый</td>\n",
       "    </tr>\n",
       "  </tbody>\n",
       "</table></div>"
      ],
      "text/plain": [
       "          ID      Пол  Возраст   Тип клиента Тип путешествия         Класс  \\\n",
       "40968  40969  Женщина       36  Возвращаемый          Личный  Эконом класс   \n",
       "94026  94027  Женщина       47  Возвращаемый          Бизнес  Бизнес класс   \n",
       "60618  60619  Женщина       52  Возвращаемый          Бизнес  Бизнес класс   \n",
       "5893    5894  Мужчина       54  Возвращаемый          Бизнес  Бизнес класс   \n",
       "\n",
       "       Дальность полёта  Задержка вылета  Задержка прибытия  \\\n",
       "40968               507                0                0.0   \n",
       "94026              2063               17                6.0   \n",
       "60618              1201                0                0.0   \n",
       "5893               3295                0                1.0   \n",
       "\n",
       "       Удобство времени вылета и прибытия  Простота онлайн бронирования  \\\n",
       "40968                                   5                             2   \n",
       "94026                                   4                             1   \n",
       "60618                                   1                             4   \n",
       "5893                                    1                             1   \n",
       "\n",
       "       Услуга регистрации заезда  Онлайн-посадка  Расположение ворот  \\\n",
       "40968                          4               2                   3   \n",
       "94026                          5               5                   4   \n",
       "60618                          3               4                   1   \n",
       "5893                           5               4                   1   \n",
       "\n",
       "       Обслуживание на борту  Комфорт сидения  Обслуживание в номерах для ног  \\\n",
       "40968                      1                4                               5   \n",
       "94026                      4                5                               4   \n",
       "60618                      4                5                               4   \n",
       "5893                       5                4                               5   \n",
       "\n",
       "       Чистоплотность  Еда и напитки  Обслуживание понимаете  \\\n",
       "40968               4              4                       3   \n",
       "94026               4              2                       4   \n",
       "60618               5              5                       4   \n",
       "5893                5              5                       5   \n",
       "\n",
       "       Услуга wi-fi в полёте  Развлечения на борту  Обработка багажа  \\\n",
       "40968                      2                     4                 5   \n",
       "94026                      4                     4                 4   \n",
       "60618                      1                     4                 4   \n",
       "5893                       1                     5                 5   \n",
       "\n",
       "       Удовлетворённость  \n",
       "40968    Удовлетворённый  \n",
       "94026  Неудовлетворённый  \n",
       "60618  Неудовлетворённый  \n",
       "5893   Неудовлетворённый  "
      ]
     },
     "execution_count": 4,
     "metadata": {},
     "output_type": "execute_result"
    }
   ],
   "source": [
    "pd.set_option('display.max_columns', None)\n",
    "df.sample(4)"
   ]
  },
  {
   "cell_type": "markdown",
   "id": "4c9a4cbb",
   "metadata": {},
   "source": [
    "###  Преобразуем именно столбцов в формат camelCase"
   ]
  },
  {
   "cell_type": "code",
   "execution_count": 5,
   "id": "53378b15",
   "metadata": {},
   "outputs": [],
   "source": [
    "df.rename(columns = {'Пол': 'gender', \n",
    "                     'Возраст': 'age', \n",
    "                     'Тип клиента': 'customerType', \n",
    "                     'Тип путешествия': 'typeOfTravel', \n",
    "                     'Класс': 'class',\n",
    "                     'Дальность полёта': 'flightDistance', \n",
    "                     'Задержка вылета': 'departureDelay', \n",
    "                     'Задержка прибытия': 'arrivalDelay',\n",
    "                     'Удобство времени вылета и прибытия': 'departureAndArrivalTimeConvenience', \n",
    "                     'Простота онлайн бронирования': 'easeOfOnlineBooking',\n",
    "                     'Услуга регистрации заезда': 'checkinService', \n",
    "                     'Онлайн-посадка': 'onlineBoarding', \n",
    "                     'Расположение ворот': 'gateLocation',\n",
    "                     'Обслуживание на борту': 'onboardService', \n",
    "                     'Комфорт сидения': 'seatComfort', \n",
    "                     'Обслуживание в номерах для ног': 'legRoomService', \n",
    "                     'Чистоплотность': 'cleanliness',\n",
    "                     'Еда и напитки': 'foodAndDrink', \n",
    "                     'Обслуживание понимаете': 'inflightService', \n",
    "                     'Услуга wi-fi в полёте': 'inflightWifiService',\n",
    "                     'Развлечения на борту': 'inflightEntertainment',\n",
    "                     'Обработка багажа': 'baggageHandling', \n",
    "                     'Удовлетворённость': 'satisfaction'}, inplace = True)\n"
   ]
  },
  {
   "cell_type": "markdown",
   "id": "bd7c75cc",
   "metadata": {},
   "source": [
    "<br><a id=\"ref3\"></a> \n",
    "### Изучение данных "
   ]
  },
  {
   "cell_type": "code",
   "execution_count": 6,
   "id": "96327ece",
   "metadata": {
    "scrolled": true
   },
   "outputs": [
    {
     "name": "stdout",
     "output_type": "stream",
     "text": [
      "<class 'pandas.core.frame.DataFrame'>\n",
      "RangeIndex: 129880 entries, 0 to 129879\n",
      "Data columns (total 24 columns):\n",
      " #   Column                              Non-Null Count   Dtype  \n",
      "---  ------                              --------------   -----  \n",
      " 0   ID                                  129880 non-null  int64  \n",
      " 1   gender                              129880 non-null  object \n",
      " 2   age                                 129880 non-null  int64  \n",
      " 3   customerType                        129880 non-null  object \n",
      " 4   typeOfTravel                        129880 non-null  object \n",
      " 5   class                               129880 non-null  object \n",
      " 6   flightDistance                      129880 non-null  int64  \n",
      " 7   departureDelay                      129880 non-null  int64  \n",
      " 8   arrivalDelay                        129487 non-null  float64\n",
      " 9   departureAndArrivalTimeConvenience  129880 non-null  int64  \n",
      " 10  easeOfOnlineBooking                 129880 non-null  int64  \n",
      " 11  checkinService                      129880 non-null  int64  \n",
      " 12  onlineBoarding                      129880 non-null  int64  \n",
      " 13  gateLocation                        129880 non-null  int64  \n",
      " 14  onboardService                      129880 non-null  int64  \n",
      " 15  seatComfort                         129880 non-null  int64  \n",
      " 16  legRoomService                      129880 non-null  int64  \n",
      " 17  cleanliness                         129880 non-null  int64  \n",
      " 18  foodAndDrink                        129880 non-null  int64  \n",
      " 19  inflightService                     129880 non-null  int64  \n",
      " 20  inflightWifiService                 129880 non-null  int64  \n",
      " 21  inflightEntertainment               129880 non-null  int64  \n",
      " 22  baggageHandling                     129880 non-null  int64  \n",
      " 23  satisfaction                        129880 non-null  object \n",
      "dtypes: float64(1), int64(18), object(5)\n",
      "memory usage: 23.8+ MB\n"
     ]
    }
   ],
   "source": [
    "df.info()"
   ]
  },
  {
   "cell_type": "code",
   "execution_count": 7,
   "id": "40dce92f",
   "metadata": {
    "scrolled": true
   },
   "outputs": [
    {
     "data": {
      "text/plain": [
       "ID                                      int64\n",
       "gender                                 object\n",
       "age                                     int64\n",
       "customerType                           object\n",
       "typeOfTravel                           object\n",
       "class                                  object\n",
       "flightDistance                          int64\n",
       "departureDelay                          int64\n",
       "arrivalDelay                          float64\n",
       "departureAndArrivalTimeConvenience      int64\n",
       "easeOfOnlineBooking                     int64\n",
       "checkinService                          int64\n",
       "onlineBoarding                          int64\n",
       "gateLocation                            int64\n",
       "onboardService                          int64\n",
       "seatComfort                             int64\n",
       "legRoomService                          int64\n",
       "cleanliness                             int64\n",
       "foodAndDrink                            int64\n",
       "inflightService                         int64\n",
       "inflightWifiService                     int64\n",
       "inflightEntertainment                   int64\n",
       "baggageHandling                         int64\n",
       "satisfaction                           object\n",
       "dtype: object"
      ]
     },
     "execution_count": 7,
     "metadata": {},
     "output_type": "execute_result"
    }
   ],
   "source": [
    "df.dtypes"
   ]
  },
  {
   "cell_type": "code",
   "execution_count": 8,
   "id": "a5cfbe77",
   "metadata": {
    "scrolled": true
   },
   "outputs": [
    {
     "data": {
      "text/plain": [
       "Index(['ID', 'gender', 'age', 'customerType', 'typeOfTravel', 'class',\n",
       "       'flightDistance', 'departureDelay', 'arrivalDelay',\n",
       "       'departureAndArrivalTimeConvenience', 'easeOfOnlineBooking',\n",
       "       'checkinService', 'onlineBoarding', 'gateLocation', 'onboardService',\n",
       "       'seatComfort', 'legRoomService', 'cleanliness', 'foodAndDrink',\n",
       "       'inflightService', 'inflightWifiService', 'inflightEntertainment',\n",
       "       'baggageHandling', 'satisfaction'],\n",
       "      dtype='object')"
      ]
     },
     "execution_count": 8,
     "metadata": {},
     "output_type": "execute_result"
    }
   ],
   "source": [
    "df.columns"
   ]
  },
  {
   "cell_type": "markdown",
   "id": "3b473395",
   "metadata": {},
   "source": [
    "> краткий обзор, что содержит данные "
   ]
  },
  {
   "cell_type": "code",
   "execution_count": 9,
   "id": "c72eb4c9",
   "metadata": {},
   "outputs": [],
   "source": [
    "# Создаем df-обзор колонок\n",
    "df_about = show_missing(df)"
   ]
  },
  {
   "cell_type": "code",
   "execution_count": 10,
   "id": "609b2003",
   "metadata": {
    "scrolled": false
   },
   "outputs": [],
   "source": [
    "# Переворачиваем таблицу\n",
    "df_about = df_about.transpose().rename(columns=df_about.transpose().iloc[0]).iloc[1:,:]"
   ]
  },
  {
   "cell_type": "code",
   "execution_count": 11,
   "id": "50084275",
   "metadata": {},
   "outputs": [
    {
     "data": {
      "text/html": [
       "<div><div id=6f57b136-2ba1-4dbd-bf8c-b9240ecc5d93 style=\"display:none; background-color:#9D6CFF; color:white; width:200px; height:30px; padding-left:5px; border-radius:4px; flex-direction:row; justify-content:space-around; align-items:center;\" onmouseover=\"this.style.backgroundColor='#BA9BF8'\" onmouseout=\"this.style.backgroundColor='#9D6CFF'\" onclick=\"window.commands?.execute('create-mitosheet-from-dataframe-output');\">See Full Dataframe in Mito</div> <script> if (window.commands?.hasCommand('create-mitosheet-from-dataframe-output')) document.getElementById('6f57b136-2ba1-4dbd-bf8c-b9240ecc5d93').style.display = 'flex' </script> <table border=\"1\" class=\"dataframe\">\n",
       "  <thead>\n",
       "    <tr style=\"text-align: right;\">\n",
       "      <th></th>\n",
       "      <th>ID</th>\n",
       "      <th>gender</th>\n",
       "      <th>age</th>\n",
       "      <th>customerType</th>\n",
       "      <th>typeOfTravel</th>\n",
       "      <th>class</th>\n",
       "      <th>flightDistance</th>\n",
       "      <th>departureDelay</th>\n",
       "      <th>arrivalDelay</th>\n",
       "      <th>departureAndArrivalTimeConvenience</th>\n",
       "      <th>easeOfOnlineBooking</th>\n",
       "      <th>checkinService</th>\n",
       "      <th>onlineBoarding</th>\n",
       "      <th>gateLocation</th>\n",
       "      <th>onboardService</th>\n",
       "      <th>seatComfort</th>\n",
       "      <th>legRoomService</th>\n",
       "      <th>cleanliness</th>\n",
       "      <th>foodAndDrink</th>\n",
       "      <th>inflightService</th>\n",
       "      <th>inflightWifiService</th>\n",
       "      <th>inflightEntertainment</th>\n",
       "      <th>baggageHandling</th>\n",
       "      <th>satisfaction</th>\n",
       "    </tr>\n",
       "  </thead>\n",
       "  <tbody>\n",
       "    <tr>\n",
       "      <th>Тип значений</th>\n",
       "      <td>int64</td>\n",
       "      <td>object</td>\n",
       "      <td>int64</td>\n",
       "      <td>object</td>\n",
       "      <td>object</td>\n",
       "      <td>object</td>\n",
       "      <td>int64</td>\n",
       "      <td>int64</td>\n",
       "      <td>float64</td>\n",
       "      <td>int64</td>\n",
       "      <td>int64</td>\n",
       "      <td>int64</td>\n",
       "      <td>int64</td>\n",
       "      <td>int64</td>\n",
       "      <td>int64</td>\n",
       "      <td>int64</td>\n",
       "      <td>int64</td>\n",
       "      <td>int64</td>\n",
       "      <td>int64</td>\n",
       "      <td>int64</td>\n",
       "      <td>int64</td>\n",
       "      <td>int64</td>\n",
       "      <td>int64</td>\n",
       "      <td>object</td>\n",
       "    </tr>\n",
       "    <tr>\n",
       "      <th>Количество значений</th>\n",
       "      <td>129880</td>\n",
       "      <td>129880</td>\n",
       "      <td>129880</td>\n",
       "      <td>129880</td>\n",
       "      <td>129880</td>\n",
       "      <td>129880</td>\n",
       "      <td>129880</td>\n",
       "      <td>129880</td>\n",
       "      <td>129880</td>\n",
       "      <td>129880</td>\n",
       "      <td>129880</td>\n",
       "      <td>129880</td>\n",
       "      <td>129880</td>\n",
       "      <td>129880</td>\n",
       "      <td>129880</td>\n",
       "      <td>129880</td>\n",
       "      <td>129880</td>\n",
       "      <td>129880</td>\n",
       "      <td>129880</td>\n",
       "      <td>129880</td>\n",
       "      <td>129880</td>\n",
       "      <td>129880</td>\n",
       "      <td>129880</td>\n",
       "      <td>129880</td>\n",
       "    </tr>\n",
       "    <tr>\n",
       "      <th>Кол.уникальные значения</th>\n",
       "      <td>129880</td>\n",
       "      <td>2</td>\n",
       "      <td>75</td>\n",
       "      <td>2</td>\n",
       "      <td>2</td>\n",
       "      <td>3</td>\n",
       "      <td>3821</td>\n",
       "      <td>466</td>\n",
       "      <td>473</td>\n",
       "      <td>6</td>\n",
       "      <td>6</td>\n",
       "      <td>6</td>\n",
       "      <td>6</td>\n",
       "      <td>6</td>\n",
       "      <td>6</td>\n",
       "      <td>6</td>\n",
       "      <td>6</td>\n",
       "      <td>6</td>\n",
       "      <td>6</td>\n",
       "      <td>6</td>\n",
       "      <td>6</td>\n",
       "      <td>6</td>\n",
       "      <td>5</td>\n",
       "      <td>2</td>\n",
       "    </tr>\n",
       "    <tr>\n",
       "      <th>Кол.NaN</th>\n",
       "      <td>0</td>\n",
       "      <td>0</td>\n",
       "      <td>0</td>\n",
       "      <td>0</td>\n",
       "      <td>0</td>\n",
       "      <td>0</td>\n",
       "      <td>0</td>\n",
       "      <td>0</td>\n",
       "      <td>393</td>\n",
       "      <td>0</td>\n",
       "      <td>0</td>\n",
       "      <td>0</td>\n",
       "      <td>0</td>\n",
       "      <td>0</td>\n",
       "      <td>0</td>\n",
       "      <td>0</td>\n",
       "      <td>0</td>\n",
       "      <td>0</td>\n",
       "      <td>0</td>\n",
       "      <td>0</td>\n",
       "      <td>0</td>\n",
       "      <td>0</td>\n",
       "      <td>0</td>\n",
       "      <td>0</td>\n",
       "    </tr>\n",
       "    <tr>\n",
       "      <th>% NaN</th>\n",
       "      <td>0.0</td>\n",
       "      <td>0.0</td>\n",
       "      <td>0.0</td>\n",
       "      <td>0.0</td>\n",
       "      <td>0.0</td>\n",
       "      <td>0.0</td>\n",
       "      <td>0.0</td>\n",
       "      <td>0.0</td>\n",
       "      <td>0.3</td>\n",
       "      <td>0.0</td>\n",
       "      <td>0.0</td>\n",
       "      <td>0.0</td>\n",
       "      <td>0.0</td>\n",
       "      <td>0.0</td>\n",
       "      <td>0.0</td>\n",
       "      <td>0.0</td>\n",
       "      <td>0.0</td>\n",
       "      <td>0.0</td>\n",
       "      <td>0.0</td>\n",
       "      <td>0.0</td>\n",
       "      <td>0.0</td>\n",
       "      <td>0.0</td>\n",
       "      <td>0.0</td>\n",
       "      <td>0.0</td>\n",
       "    </tr>\n",
       "  </tbody>\n",
       "</table></div>"
      ],
      "text/plain": [
       "                             ID  gender     age customerType typeOfTravel  \\\n",
       "Тип значений              int64  object   int64       object       object   \n",
       "Количество значений      129880  129880  129880       129880       129880   \n",
       "Кол.уникальные значения  129880       2      75            2            2   \n",
       "Кол.NaN                       0       0       0            0            0   \n",
       "% NaN                       0.0     0.0     0.0          0.0          0.0   \n",
       "\n",
       "                          class flightDistance departureDelay arrivalDelay  \\\n",
       "Тип значений             object          int64          int64      float64   \n",
       "Количество значений      129880         129880         129880       129880   \n",
       "Кол.уникальные значения       3           3821            466          473   \n",
       "Кол.NaN                       0              0              0          393   \n",
       "% NaN                       0.0            0.0            0.0          0.3   \n",
       "\n",
       "                        departureAndArrivalTimeConvenience  \\\n",
       "Тип значений                                         int64   \n",
       "Количество значений                                 129880   \n",
       "Кол.уникальные значения                                  6   \n",
       "Кол.NaN                                                  0   \n",
       "% NaN                                                  0.0   \n",
       "\n",
       "                        easeOfOnlineBooking checkinService onlineBoarding  \\\n",
       "Тип значений                          int64          int64          int64   \n",
       "Количество значений                  129880         129880         129880   \n",
       "Кол.уникальные значения                   6              6              6   \n",
       "Кол.NaN                                   0              0              0   \n",
       "% NaN                                   0.0            0.0            0.0   \n",
       "\n",
       "                        gateLocation onboardService seatComfort  \\\n",
       "Тип значений                   int64          int64       int64   \n",
       "Количество значений           129880         129880      129880   \n",
       "Кол.уникальные значения            6              6           6   \n",
       "Кол.NaN                            0              0           0   \n",
       "% NaN                            0.0            0.0         0.0   \n",
       "\n",
       "                        legRoomService cleanliness foodAndDrink  \\\n",
       "Тип значений                     int64       int64        int64   \n",
       "Количество значений             129880      129880       129880   \n",
       "Кол.уникальные значения              6           6            6   \n",
       "Кол.NaN                              0           0            0   \n",
       "% NaN                              0.0         0.0          0.0   \n",
       "\n",
       "                        inflightService inflightWifiService  \\\n",
       "Тип значений                      int64               int64   \n",
       "Количество значений              129880              129880   \n",
       "Кол.уникальные значения               6                   6   \n",
       "Кол.NaN                               0                   0   \n",
       "% NaN                               0.0                 0.0   \n",
       "\n",
       "                        inflightEntertainment baggageHandling satisfaction  \n",
       "Тип значений                            int64           int64       object  \n",
       "Количество значений                    129880          129880       129880  \n",
       "Кол.уникальные значения                     6               5            2  \n",
       "Кол.NaN                                     0               0            0  \n",
       "% NaN                                     0.0             0.0          0.0  "
      ]
     },
     "execution_count": 11,
     "metadata": {},
     "output_type": "execute_result"
    }
   ],
   "source": [
    "df_about"
   ]
  },
  {
   "cell_type": "code",
   "execution_count": 12,
   "id": "410b7589",
   "metadata": {},
   "outputs": [
    {
     "data": {
      "text/html": [
       "<div><div id=f6e6bcff-d081-410a-a731-9e9ccbb98181 style=\"display:none; background-color:#9D6CFF; color:white; width:200px; height:30px; padding-left:5px; border-radius:4px; flex-direction:row; justify-content:space-around; align-items:center;\" onmouseover=\"this.style.backgroundColor='#BA9BF8'\" onmouseout=\"this.style.backgroundColor='#9D6CFF'\" onclick=\"window.commands?.execute('create-mitosheet-from-dataframe-output');\">See Full Dataframe in Mito</div> <script> if (window.commands?.hasCommand('create-mitosheet-from-dataframe-output')) document.getElementById('f6e6bcff-d081-410a-a731-9e9ccbb98181').style.display = 'flex' </script> <table border=\"1\" class=\"dataframe\">\n",
       "  <thead>\n",
       "    <tr style=\"text-align: right;\">\n",
       "      <th></th>\n",
       "      <th>ID</th>\n",
       "      <th>gender</th>\n",
       "      <th>age</th>\n",
       "      <th>customerType</th>\n",
       "      <th>typeOfTravel</th>\n",
       "      <th>class</th>\n",
       "      <th>flightDistance</th>\n",
       "      <th>departureDelay</th>\n",
       "      <th>arrivalDelay</th>\n",
       "      <th>departureAndArrivalTimeConvenience</th>\n",
       "      <th>easeOfOnlineBooking</th>\n",
       "      <th>checkinService</th>\n",
       "      <th>onlineBoarding</th>\n",
       "      <th>gateLocation</th>\n",
       "      <th>onboardService</th>\n",
       "      <th>seatComfort</th>\n",
       "      <th>legRoomService</th>\n",
       "      <th>cleanliness</th>\n",
       "      <th>foodAndDrink</th>\n",
       "      <th>inflightService</th>\n",
       "      <th>inflightWifiService</th>\n",
       "      <th>inflightEntertainment</th>\n",
       "      <th>baggageHandling</th>\n",
       "      <th>satisfaction</th>\n",
       "    </tr>\n",
       "  </thead>\n",
       "  <tbody>\n",
       "    <tr>\n",
       "      <th>Кол.уникальные значения</th>\n",
       "      <td>129880</td>\n",
       "      <td>2</td>\n",
       "      <td>75</td>\n",
       "      <td>2</td>\n",
       "      <td>2</td>\n",
       "      <td>3</td>\n",
       "      <td>3821</td>\n",
       "      <td>466</td>\n",
       "      <td>473</td>\n",
       "      <td>6</td>\n",
       "      <td>6</td>\n",
       "      <td>6</td>\n",
       "      <td>6</td>\n",
       "      <td>6</td>\n",
       "      <td>6</td>\n",
       "      <td>6</td>\n",
       "      <td>6</td>\n",
       "      <td>6</td>\n",
       "      <td>6</td>\n",
       "      <td>6</td>\n",
       "      <td>6</td>\n",
       "      <td>6</td>\n",
       "      <td>5</td>\n",
       "      <td>2</td>\n",
       "    </tr>\n",
       "  </tbody>\n",
       "</table></div>"
      ],
      "text/plain": [
       "                             ID gender age customerType typeOfTravel class  \\\n",
       "Кол.уникальные значения  129880      2  75            2            2     3   \n",
       "\n",
       "                        flightDistance departureDelay arrivalDelay  \\\n",
       "Кол.уникальные значения           3821            466          473   \n",
       "\n",
       "                        departureAndArrivalTimeConvenience  \\\n",
       "Кол.уникальные значения                                  6   \n",
       "\n",
       "                        easeOfOnlineBooking checkinService onlineBoarding  \\\n",
       "Кол.уникальные значения                   6              6              6   \n",
       "\n",
       "                        gateLocation onboardService seatComfort  \\\n",
       "Кол.уникальные значения            6              6           6   \n",
       "\n",
       "                        legRoomService cleanliness foodAndDrink  \\\n",
       "Кол.уникальные значения              6           6            6   \n",
       "\n",
       "                        inflightService inflightWifiService  \\\n",
       "Кол.уникальные значения               6                   6   \n",
       "\n",
       "                        inflightEntertainment baggageHandling satisfaction  \n",
       "Кол.уникальные значения                     6               5            2  "
      ]
     },
     "execution_count": 12,
     "metadata": {},
     "output_type": "execute_result"
    }
   ],
   "source": [
    "# Уникальные значения столбцов\n",
    "df_about.iloc[[2]]"
   ]
  },
  {
   "cell_type": "code",
   "execution_count": 13,
   "id": "b3130bda",
   "metadata": {},
   "outputs": [
    {
     "name": "stdout",
     "output_type": "stream",
     "text": [
      "Количество пассажиров:           129880\n",
      "Количество атрибутов в таблице:    24\n"
     ]
    }
   ],
   "source": [
    "print(\"Количество пассажиров:          \", df.shape[0])\n",
    "print(\"Количество атрибутов в таблице:   \",df.shape[1])"
   ]
  },
  {
   "cell_type": "markdown",
   "id": "4fe6889d",
   "metadata": {},
   "source": [
    "<a id=\"ref4\"></a> \n",
    "<br>\n",
    "## Очистка данных \n",
    "- избавимся от \n",
    "* Дубликатов\n",
    "* Нулевых значений"
   ]
  },
  {
   "cell_type": "markdown",
   "id": "8cd970e9",
   "metadata": {},
   "source": [
    "#### Заполнение пропусков столбца \"Задержка прибытия\" средним значением "
   ]
  },
  {
   "cell_type": "code",
   "execution_count": 14,
   "id": "564d9c58",
   "metadata": {},
   "outputs": [],
   "source": [
    "df.arrivalDelay = df.arrivalDelay.fillna(df.arrivalDelay.mean())"
   ]
  },
  {
   "cell_type": "code",
   "execution_count": 15,
   "id": "f96e611e",
   "metadata": {},
   "outputs": [
    {
     "name": "stdout",
     "output_type": "stream",
     "text": [
      "Количество нулевых значений : 0\n"
     ]
    }
   ],
   "source": [
    "print('Количество нулевых значений :',df.isna().sum().sum())"
   ]
  },
  {
   "cell_type": "code",
   "execution_count": 16,
   "id": "2f753542",
   "metadata": {},
   "outputs": [
    {
     "name": "stdout",
     "output_type": "stream",
     "text": [
      "Количество дубликатов : 0\n"
     ]
    }
   ],
   "source": [
    "print('Количество дубликатов :',df.duplicated().sum())"
   ]
  },
  {
   "cell_type": "markdown",
   "id": "365b21e4",
   "metadata": {},
   "source": [
    "##### Теперь наши данные готовы к изучению, визуализации и, наконец, к прогнозированию."
   ]
  },
  {
   "cell_type": "markdown",
   "id": "e4b7b84b",
   "metadata": {},
   "source": [
    "### Получим уникальные значения определённых столбцов "
   ]
  },
  {
   "cell_type": "code",
   "execution_count": 17,
   "id": "02eb224a",
   "metadata": {},
   "outputs": [],
   "source": [
    "list_unique = ['gender', 'customerType', 'class', 'satisfaction', 'typeOfTravel']\n",
    "dict_unique = {}"
   ]
  },
  {
   "cell_type": "code",
   "execution_count": 18,
   "id": "391768b2",
   "metadata": {},
   "outputs": [
    {
     "name": "stdout",
     "output_type": "stream",
     "text": [
      "УНИКАЛЬНЫЕ ЗНАЧЕНИЯ СТОЛБЦОВ:\n",
      "gender  -  ['Мужчина' 'Женщина']\n",
      "customerType  -  ['Первый раз' 'Возвращаемый']\n",
      "class  -  ['Бизнес класс' 'Эконом класс' 'Эконом плюс']\n",
      "satisfaction  -  ['Удовлетворённый' 'Неудовлетворённый']\n",
      "typeOfTravel  -  ['Бизнес' 'Личный']\n"
     ]
    }
   ],
   "source": [
    "print('УНИКАЛЬНЫЕ ЗНАЧЕНИЯ СТОЛБЦОВ:')\n",
    "for (index, i) in enumerate(list_unique): \n",
    "    print(i, ' - ',  df[f'{i}'].unique())"
   ]
  },
  {
   "cell_type": "markdown",
   "id": "66d993e0",
   "metadata": {},
   "source": [
    "<br><a id=\"ref5\"></a> \n",
    "### Визуализация данных"
   ]
  },
  {
   "cell_type": "code",
   "execution_count": 20,
   "id": "fdde8971",
   "metadata": {},
   "outputs": [],
   "source": [
    "# fig = px.pie(df, names = df[f'{elem}'].value_counts().keys(),\n",
    "#                  values = df[f'{elem}'].value_counts().values, width=400, height=400,\n",
    "#                  color_discrete_sequence=px.colors.sequential.RdBu)\n",
    "# fig.update_layout(\n",
    "# title=f'{elem}',\n",
    "# title_x=0.5)\n",
    "# gitly.show( fig )"
   ]
  },
  {
   "cell_type": "code",
   "execution_count": 21,
   "id": "092f1515",
   "metadata": {},
   "outputs": [],
   "source": [
    "items = ['typeOfTravel', 'class', 'satisfaction']"
   ]
  },
  {
   "cell_type": "code",
   "execution_count": 22,
   "id": "7767485f",
   "metadata": {},
   "outputs": [],
   "source": [
    "for (index, elem) in enumerate(items): \n",
    "    fig = px.pie(df, names = df[f'{elem}'].value_counts().keys(),\n",
    "                 values = df[f'{elem}'].value_counts().values, width=400, height=400,\n",
    "                 color_discrete_sequence=px.colors.sequential.RdBu)\n",
    "    fig.update_layout(\n",
    "    title=elem,\n",
    "    title_x=0.5)\n",
    "    gitly.show(fig)"
   ]
  },
  {
   "cell_type": "code",
   "execution_count": 24,
   "id": "c0357bcb",
   "metadata": {},
   "outputs": [
    {
     "data": {
      "image/png": "[encoded data removed]",
      "text/plain": [
       "<IPython.core.display.Image object>"
      ]
     },
     "execution_count": 24,
     "metadata": {},
     "output_type": "execute_result"
    }
   ],
   "source": [
    "fig = px.histogram(df, x = 'age',  marginal ='box', barmode = 'overlay')\n",
    "fig.update_layout(\n",
    "    title='Доход, 1990 год, 2013 год',\n",
    "    xaxis_title=\"Доход\",\n",
    "    yaxis_title=\"Количество\",\n",
    "    title_x=0.5,\n",
    "    legend_title=\"Год\",\n",
    "    font=dict(\n",
    "        family=\"Courier New, monospace\",\n",
    "        size=14\n",
    "    )\n",
    ")\n",
    "gitly.show( fig )"
   ]
  },
  {
   "cell_type": "markdown",
   "id": "ea6ea0ae",
   "metadata": {},
   "source": [
    "* Уровень удовлетворенности даже не 50%.\n",
    "* По данным пассажиров, в классе путешествий преобладают бизнес-класс (48%) и экономический класс (45%), а остальные — эконом-класс (7%).\n",
    "* Возрастные выбросы не так значительны\n",
    "<!-- * Satisfaction level is not even 50%.\n",
    "* Travel class dominated by business class (48%) & economy class (45%), and the rest are economy class(7%) from the data of the passengers.\n",
    "* Age outliers are not that significant  -->"
   ]
  },
  {
   "cell_type": "code",
   "execution_count": 25,
   "id": "bd2e6cd3",
   "metadata": {},
   "outputs": [],
   "source": [
    "\n",
    "# sns.catplot(\"Satisfaction\", col=\"Gender\", col_wrap=2, data=df, kind=\"count\", height=2.5, aspect=1.5)  \n",
    "# sns.catplot(\"Satisfaction\", col=\"Customer Type\", col_wrap=2, data=df, kind=\"count\", height=2.5, aspect=1.5)\n",
    "# sns.catplot(\"Satisfaction\", col=\"Class\", col_wrap=2, data=df, kind=\"count\", height=2.5, aspect=1.5) \n",
    "# plt.show()\n"
   ]
  },
  {
   "cell_type": "markdown",
   "id": "c1c78837",
   "metadata": {},
   "source": [
    "* Gender : Males and Females are almost the same with the satisfaction and dissatisfaction level so satisfaction behaviour is almost the same.\n",
    "* Customer Type: Those who are returning are having almost the same level of people who are satisfied or Neutral or Dissatisfied and customers with first time are with most dissatisfied.\n",
    "* Class : satisfaction level is more only for business class    "
   ]
  },
  {
   "cell_type": "code",
   "execution_count": null,
   "id": "9e4fc6f8",
   "metadata": {
    "scrolled": false
   },
   "outputs": [],
   "source": [
    "# sns.catplot(x=\"Flight Distance\", y=\"Type of Travel\", hue=\"Satisfaction\", col=\"Class\", data=df, kind=\"bar\", height=4.5, aspect=.8)\n",
    "# sns.catplot(x=\"Departure and Arrival Time Convenience\", y=\"Type of Travel\", hue=\"Satisfaction\", col=\"Class\", data=df, kind=\"bar\", height=4.5, aspect=.8)\n",
    "# sns.catplot(x=\"On-board Service\", y=\"Type of Travel\", hue=\"Satisfaction\", col=\"Class\", data=df, kind=\"bar\", height=4.5, aspect=.8)\n",
    "# sns.catplot(x=\"Check-in Service\", y=\"Type of Travel\", hue=\"Satisfaction\", col=\"Class\", data=df, kind=\"bar\", height=4.5, aspect=.8)\n",
    "# sns.catplot(x=\"Online Boarding\", y=\"Type of Travel\", hue=\"Satisfaction\", col=\"Class\", data=df, kind=\"bar\", height=4.5, aspect=.8)\n",
    "# sns.catplot(x=\"Seat Comfort\", y=\"Type of Travel\", hue=\"Satisfaction\", col=\"Class\", data=df, kind=\"bar\", height=4.5, aspect=.8)\n",
    "# sns.catplot(x=\"Leg Room Service\", y=\"Type of Travel\", hue=\"Satisfaction\", col=\"Class\", data=df, kind=\"bar\", height=4.5, aspect=.8)\n",
    "# sns.catplot(x=\"Cleanliness\", y=\"Type of Travel\", hue=\"Satisfaction\", col=\"Class\", data=df, kind=\"bar\", height=4.5, aspect=.8)\n",
    "# sns.catplot(x=\"Food and Drink\", y=\"Type of Travel\", hue=\"Satisfaction\", col=\"Class\", data=df, kind=\"bar\", height=4.5, aspect=.8)\n",
    "# sns.catplot(x=\"In-flight Service\", y=\"Type of Travel\", hue=\"Satisfaction\", col=\"Class\", data=df, kind=\"bar\", height=4.5, aspect=.8)\n",
    "# plt.show()"
   ]
  },
  {
   "cell_type": "code",
   "execution_count": null,
   "id": "96e6b470",
   "metadata": {
    "scrolled": true
   },
   "outputs": [],
   "source": [
    "# print(pd.pivot_table(data=df,values='Age',index='Gender',columns='Class',aggfunc='count'))\n",
    "# sns.countplot(x=\"Class\", data=df,palette=\"mako\")\n",
    "# plt.show()"
   ]
  },
  {
   "cell_type": "markdown",
   "id": "fd8be8b0",
   "metadata": {},
   "source": [
    "#### It can be seen that Gender and ID has no relation with the satisfaction so its better to drop for a perfect model creation. \n",
    "<u>Data Exploration and Data Visualisation<u> is done and data is ready for training and model creation"
   ]
  },
  {
   "cell_type": "markdown",
   "id": "8e510c63",
   "metadata": {},
   "source": [
    "### <u>Preparing to build a model<u> \n",
    "* Multiple variables which are independent features to predict a dependent variable \n",
    "* Classify the data by replace method and drop columns which are not required \n"
   ]
  },
  {
   "cell_type": "code",
   "execution_count": 28,
   "id": "546a2962",
   "metadata": {
    "scrolled": true
   },
   "outputs": [
    {
     "data": {
      "text/html": [
       "<div><div id=9d4dfccc-7d25-4d51-9d2b-e1ab9e4ce8aa style=\"display:none; background-color:#9D6CFF; color:white; width:200px; height:30px; padding-left:5px; border-radius:4px; flex-direction:row; justify-content:space-around; align-items:center;\" onmouseover=\"this.style.backgroundColor='#BA9BF8'\" onmouseout=\"this.style.backgroundColor='#9D6CFF'\" onclick=\"window.commands?.execute('create-mitosheet-from-dataframe-output');\">See Full Dataframe in Mito</div> <script> if (window.commands?.hasCommand('create-mitosheet-from-dataframe-output')) document.getElementById('9d4dfccc-7d25-4d51-9d2b-e1ab9e4ce8aa').style.display = 'flex' </script> <table border=\"1\" class=\"dataframe\">\n",
       "  <thead>\n",
       "    <tr style=\"text-align: right;\">\n",
       "      <th></th>\n",
       "      <th>ID</th>\n",
       "      <th>gender</th>\n",
       "      <th>age</th>\n",
       "      <th>customerType</th>\n",
       "      <th>typeOfTravel</th>\n",
       "      <th>class</th>\n",
       "      <th>flightDistance</th>\n",
       "      <th>departureDelay</th>\n",
       "      <th>arrivalDelay</th>\n",
       "      <th>departureAndArrivalTimeConvenience</th>\n",
       "      <th>easeOfOnlineBooking</th>\n",
       "      <th>checkinService</th>\n",
       "      <th>onlineBoarding</th>\n",
       "      <th>gateLocation</th>\n",
       "      <th>onboardService</th>\n",
       "      <th>seatComfort</th>\n",
       "      <th>legRoomService</th>\n",
       "      <th>cleanliness</th>\n",
       "      <th>foodAndDrink</th>\n",
       "      <th>inflightService</th>\n",
       "      <th>inflightWifiService</th>\n",
       "      <th>inflightEntertainment</th>\n",
       "      <th>baggageHandling</th>\n",
       "      <th>satisfaction</th>\n",
       "    </tr>\n",
       "  </thead>\n",
       "  <tbody>\n",
       "    <tr>\n",
       "      <th>0</th>\n",
       "      <td>1</td>\n",
       "      <td>Мужчина</td>\n",
       "      <td>48</td>\n",
       "      <td>Первый раз</td>\n",
       "      <td>Бизнес</td>\n",
       "      <td>Бизнес класс</td>\n",
       "      <td>821</td>\n",
       "      <td>2</td>\n",
       "      <td>5.0</td>\n",
       "      <td>3</td>\n",
       "      <td>3</td>\n",
       "      <td>4</td>\n",
       "      <td>3</td>\n",
       "      <td>3</td>\n",
       "      <td>3</td>\n",
       "      <td>5</td>\n",
       "      <td>2</td>\n",
       "      <td>5</td>\n",
       "      <td>5</td>\n",
       "      <td>5</td>\n",
       "      <td>3</td>\n",
       "      <td>5</td>\n",
       "      <td>5</td>\n",
       "      <td>Удовлетворённый</td>\n",
       "    </tr>\n",
       "    <tr>\n",
       "      <th>1</th>\n",
       "      <td>2</td>\n",
       "      <td>Женщина</td>\n",
       "      <td>35</td>\n",
       "      <td>Возвращаемый</td>\n",
       "      <td>Бизнес</td>\n",
       "      <td>Бизнес класс</td>\n",
       "      <td>821</td>\n",
       "      <td>26</td>\n",
       "      <td>39.0</td>\n",
       "      <td>2</td>\n",
       "      <td>2</td>\n",
       "      <td>3</td>\n",
       "      <td>5</td>\n",
       "      <td>2</td>\n",
       "      <td>5</td>\n",
       "      <td>4</td>\n",
       "      <td>5</td>\n",
       "      <td>5</td>\n",
       "      <td>3</td>\n",
       "      <td>5</td>\n",
       "      <td>2</td>\n",
       "      <td>5</td>\n",
       "      <td>5</td>\n",
       "      <td>Неудовлетворённый</td>\n",
       "    </tr>\n",
       "  </tbody>\n",
       "</table></div>"
      ],
      "text/plain": [
       "   ID   gender  age  customerType typeOfTravel         class  flightDistance  \\\n",
       "0   1  Мужчина   48    Первый раз       Бизнес  Бизнес класс             821   \n",
       "1   2  Женщина   35  Возвращаемый       Бизнес  Бизнес класс             821   \n",
       "\n",
       "   departureDelay  arrivalDelay  departureAndArrivalTimeConvenience  \\\n",
       "0               2           5.0                                   3   \n",
       "1              26          39.0                                   2   \n",
       "\n",
       "   easeOfOnlineBooking  checkinService  onlineBoarding  gateLocation  \\\n",
       "0                    3               4               3             3   \n",
       "1                    2               3               5             2   \n",
       "\n",
       "   onboardService  seatComfort  legRoomService  cleanliness  foodAndDrink  \\\n",
       "0               3            5               2            5             5   \n",
       "1               5            4               5            5             3   \n",
       "\n",
       "   inflightService  inflightWifiService  inflightEntertainment  \\\n",
       "0                5                    3                      5   \n",
       "1                5                    2                      5   \n",
       "\n",
       "   baggageHandling       satisfaction  \n",
       "0                5    Удовлетворённый  \n",
       "1                5  Неудовлетворённый  "
      ]
     },
     "execution_count": 28,
     "metadata": {},
     "output_type": "execute_result"
    }
   ],
   "source": [
    "df[:2]# df.rename(columns={\"Customer Type\":\"Customer_Type\"},inplace=True)\n",
    "# df.rename(columns={\"Type of Travel\":\"Type_of_Travel\"},inplace=True)"
   ]
  },
  {
   "cell_type": "code",
   "execution_count": 30,
   "id": "a0687582",
   "metadata": {},
   "outputs": [],
   "source": [
    "df.satisfaction = df.satisfaction.replace({\"Неудовлетворённый\": 0, \"Удовлетворённый\": 1})\n",
    "df['class'] = df['class'].replace({\"Бизнес класс\":2, \"Эконом класс\": 1, 'Эконом плюс': 0})\n",
    "df.customerType = df.customerType.replace({'Первый раз': 0, 'Возвращаемый': 1}) \n",
    "df.typeOfTravel = df.typeOfTravel.replace({\"Бизнес\":0, \"Личный\": 1})"
   ]
  },
  {
   "cell_type": "code",
   "execution_count": 31,
   "id": "8903bab8",
   "metadata": {},
   "outputs": [],
   "source": [
    "def age(agevalue):\n",
    "    if agevalue < 40:\n",
    "        return 1\n",
    "    elif agevalue < 60:\n",
    "        return 2\n",
    "    else:\n",
    "        return 3"
   ]
  },
  {
   "cell_type": "code",
   "execution_count": 33,
   "id": "626b85ba",
   "metadata": {},
   "outputs": [],
   "source": [
    "df.age = df.age.apply(age)"
   ]
  },
  {
   "cell_type": "markdown",
   "id": "f7cc8dc4",
   "metadata": {},
   "source": [
    "#### Data is classified and now columns which are not required are dropped "
   ]
  },
  {
   "cell_type": "markdown",
   "id": "a12691a1",
   "metadata": {},
   "source": [
    "### <u>Dataset Preparation<u> "
   ]
  },
  {
   "cell_type": "code",
   "execution_count": 34,
   "id": "ef4d230a",
   "metadata": {},
   "outputs": [],
   "source": [
    "d = df.copy()"
   ]
  },
  {
   "cell_type": "code",
   "execution_count": 36,
   "id": "1dc05ecd",
   "metadata": {},
   "outputs": [],
   "source": [
    "d.drop(['gender',\"ID\"],axis=1, inplace=True)"
   ]
  },
  {
   "cell_type": "code",
   "execution_count": 37,
   "id": "489b4d21",
   "metadata": {
    "scrolled": true
   },
   "outputs": [
    {
     "data": {
      "text/html": [
       "<div><div id=018e136d-11b1-4578-91a6-a70ed0b3db97 style=\"display:none; background-color:#9D6CFF; color:white; width:200px; height:30px; padding-left:5px; border-radius:4px; flex-direction:row; justify-content:space-around; align-items:center;\" onmouseover=\"this.style.backgroundColor='#BA9BF8'\" onmouseout=\"this.style.backgroundColor='#9D6CFF'\" onclick=\"window.commands?.execute('create-mitosheet-from-dataframe-output');\">See Full Dataframe in Mito</div> <script> if (window.commands?.hasCommand('create-mitosheet-from-dataframe-output')) document.getElementById('018e136d-11b1-4578-91a6-a70ed0b3db97').style.display = 'flex' </script> <table border=\"1\" class=\"dataframe\">\n",
       "  <thead>\n",
       "    <tr style=\"text-align: right;\">\n",
       "      <th></th>\n",
       "      <th>age</th>\n",
       "      <th>customerType</th>\n",
       "      <th>typeOfTravel</th>\n",
       "      <th>class</th>\n",
       "      <th>flightDistance</th>\n",
       "      <th>departureDelay</th>\n",
       "      <th>arrivalDelay</th>\n",
       "      <th>departureAndArrivalTimeConvenience</th>\n",
       "      <th>easeOfOnlineBooking</th>\n",
       "      <th>checkinService</th>\n",
       "      <th>onlineBoarding</th>\n",
       "      <th>gateLocation</th>\n",
       "      <th>onboardService</th>\n",
       "      <th>seatComfort</th>\n",
       "      <th>legRoomService</th>\n",
       "      <th>cleanliness</th>\n",
       "      <th>foodAndDrink</th>\n",
       "      <th>inflightService</th>\n",
       "      <th>inflightWifiService</th>\n",
       "      <th>inflightEntertainment</th>\n",
       "      <th>baggageHandling</th>\n",
       "      <th>satisfaction</th>\n",
       "    </tr>\n",
       "  </thead>\n",
       "  <tbody>\n",
       "    <tr>\n",
       "      <th>40256</th>\n",
       "      <td>1</td>\n",
       "      <td>1</td>\n",
       "      <td>0</td>\n",
       "      <td>2</td>\n",
       "      <td>2946</td>\n",
       "      <td>0</td>\n",
       "      <td>0.0</td>\n",
       "      <td>3</td>\n",
       "      <td>3</td>\n",
       "      <td>5</td>\n",
       "      <td>4</td>\n",
       "      <td>3</td>\n",
       "      <td>1</td>\n",
       "      <td>4</td>\n",
       "      <td>4</td>\n",
       "      <td>4</td>\n",
       "      <td>4</td>\n",
       "      <td>2</td>\n",
       "      <td>3</td>\n",
       "      <td>4</td>\n",
       "      <td>2</td>\n",
       "      <td>0</td>\n",
       "    </tr>\n",
       "    <tr>\n",
       "      <th>22334</th>\n",
       "      <td>2</td>\n",
       "      <td>1</td>\n",
       "      <td>0</td>\n",
       "      <td>2</td>\n",
       "      <td>2686</td>\n",
       "      <td>0</td>\n",
       "      <td>0.0</td>\n",
       "      <td>5</td>\n",
       "      <td>5</td>\n",
       "      <td>5</td>\n",
       "      <td>3</td>\n",
       "      <td>5</td>\n",
       "      <td>4</td>\n",
       "      <td>4</td>\n",
       "      <td>4</td>\n",
       "      <td>1</td>\n",
       "      <td>5</td>\n",
       "      <td>4</td>\n",
       "      <td>5</td>\n",
       "      <td>4</td>\n",
       "      <td>4</td>\n",
       "      <td>0</td>\n",
       "    </tr>\n",
       "    <tr>\n",
       "      <th>81338</th>\n",
       "      <td>2</td>\n",
       "      <td>1</td>\n",
       "      <td>0</td>\n",
       "      <td>1</td>\n",
       "      <td>1299</td>\n",
       "      <td>0</td>\n",
       "      <td>0.0</td>\n",
       "      <td>5</td>\n",
       "      <td>5</td>\n",
       "      <td>3</td>\n",
       "      <td>3</td>\n",
       "      <td>5</td>\n",
       "      <td>3</td>\n",
       "      <td>4</td>\n",
       "      <td>3</td>\n",
       "      <td>4</td>\n",
       "      <td>1</td>\n",
       "      <td>3</td>\n",
       "      <td>3</td>\n",
       "      <td>3</td>\n",
       "      <td>3</td>\n",
       "      <td>1</td>\n",
       "    </tr>\n",
       "    <tr>\n",
       "      <th>353</th>\n",
       "      <td>2</td>\n",
       "      <td>1</td>\n",
       "      <td>1</td>\n",
       "      <td>0</td>\n",
       "      <td>821</td>\n",
       "      <td>23</td>\n",
       "      <td>10.0</td>\n",
       "      <td>5</td>\n",
       "      <td>2</td>\n",
       "      <td>5</td>\n",
       "      <td>5</td>\n",
       "      <td>4</td>\n",
       "      <td>2</td>\n",
       "      <td>4</td>\n",
       "      <td>2</td>\n",
       "      <td>4</td>\n",
       "      <td>2</td>\n",
       "      <td>2</td>\n",
       "      <td>2</td>\n",
       "      <td>2</td>\n",
       "      <td>2</td>\n",
       "      <td>1</td>\n",
       "    </tr>\n",
       "  </tbody>\n",
       "</table></div>"
      ],
      "text/plain": [
       "       age  customerType  typeOfTravel  class  flightDistance  departureDelay  \\\n",
       "40256    1             1             0      2            2946               0   \n",
       "22334    2             1             0      2            2686               0   \n",
       "81338    2             1             0      1            1299               0   \n",
       "353      2             1             1      0             821              23   \n",
       "\n",
       "       arrivalDelay  departureAndArrivalTimeConvenience  easeOfOnlineBooking  \\\n",
       "40256           0.0                                   3                    3   \n",
       "22334           0.0                                   5                    5   \n",
       "81338           0.0                                   5                    5   \n",
       "353            10.0                                   5                    2   \n",
       "\n",
       "       checkinService  onlineBoarding  gateLocation  onboardService  \\\n",
       "40256               5               4             3               1   \n",
       "22334               5               3             5               4   \n",
       "81338               3               3             5               3   \n",
       "353                 5               5             4               2   \n",
       "\n",
       "       seatComfort  legRoomService  cleanliness  foodAndDrink  \\\n",
       "40256            4               4            4             4   \n",
       "22334            4               4            1             5   \n",
       "81338            4               3            4             1   \n",
       "353              4               2            4             2   \n",
       "\n",
       "       inflightService  inflightWifiService  inflightEntertainment  \\\n",
       "40256                2                    3                      4   \n",
       "22334                4                    5                      4   \n",
       "81338                3                    3                      3   \n",
       "353                  2                    2                      2   \n",
       "\n",
       "       baggageHandling  satisfaction  \n",
       "40256                2             0  \n",
       "22334                4             0  \n",
       "81338                3             1  \n",
       "353                  2             1  "
      ]
     },
     "execution_count": 37,
     "metadata": {},
     "output_type": "execute_result"
    }
   ],
   "source": [
    "d.sample(4)"
   ]
  },
  {
   "cell_type": "markdown",
   "id": "1381f471",
   "metadata": {},
   "source": [
    "#### Checking for the factors corelated with satisfaction \n",
    "* Statistics \n",
    "* Correlation "
   ]
  },
  {
   "cell_type": "code",
   "execution_count": 38,
   "id": "cb5d470a",
   "metadata": {
    "scrolled": false
   },
   "outputs": [
    {
     "data": {
      "text/html": [
       "<div><div id=43483862-0f5a-48f0-8b4c-883a14a0b4d2 style=\"display:none; background-color:#9D6CFF; color:white; width:200px; height:30px; padding-left:5px; border-radius:4px; flex-direction:row; justify-content:space-around; align-items:center;\" onmouseover=\"this.style.backgroundColor='#BA9BF8'\" onmouseout=\"this.style.backgroundColor='#9D6CFF'\" onclick=\"window.commands?.execute('create-mitosheet-from-dataframe-output');\">See Full Dataframe in Mito</div> <script> if (window.commands?.hasCommand('create-mitosheet-from-dataframe-output')) document.getElementById('43483862-0f5a-48f0-8b4c-883a14a0b4d2').style.display = 'flex' </script> <table border=\"1\" class=\"dataframe\">\n",
       "  <thead>\n",
       "    <tr style=\"text-align: right;\">\n",
       "      <th></th>\n",
       "      <th>age</th>\n",
       "      <th>customerType</th>\n",
       "      <th>typeOfTravel</th>\n",
       "      <th>class</th>\n",
       "      <th>flightDistance</th>\n",
       "      <th>departureDelay</th>\n",
       "      <th>arrivalDelay</th>\n",
       "      <th>departureAndArrivalTimeConvenience</th>\n",
       "      <th>easeOfOnlineBooking</th>\n",
       "      <th>checkinService</th>\n",
       "      <th>onlineBoarding</th>\n",
       "      <th>gateLocation</th>\n",
       "      <th>onboardService</th>\n",
       "      <th>seatComfort</th>\n",
       "      <th>legRoomService</th>\n",
       "      <th>cleanliness</th>\n",
       "      <th>foodAndDrink</th>\n",
       "      <th>inflightService</th>\n",
       "      <th>inflightWifiService</th>\n",
       "      <th>inflightEntertainment</th>\n",
       "      <th>baggageHandling</th>\n",
       "      <th>satisfaction</th>\n",
       "    </tr>\n",
       "  </thead>\n",
       "  <tbody>\n",
       "    <tr>\n",
       "      <th>count</th>\n",
       "      <td>129880.000000</td>\n",
       "      <td>129880.000000</td>\n",
       "      <td>129880.000000</td>\n",
       "      <td>129880.000000</td>\n",
       "      <td>129880.000000</td>\n",
       "      <td>129880.000000</td>\n",
       "      <td>129880.000000</td>\n",
       "      <td>129880.000000</td>\n",
       "      <td>129880.000000</td>\n",
       "      <td>129880.000000</td>\n",
       "      <td>129880.000000</td>\n",
       "      <td>129880.000000</td>\n",
       "      <td>129880.000000</td>\n",
       "      <td>129880.000000</td>\n",
       "      <td>129880.000000</td>\n",
       "      <td>129880.000000</td>\n",
       "      <td>129880.000000</td>\n",
       "      <td>129880.000000</td>\n",
       "      <td>129880.000000</td>\n",
       "      <td>129880.000000</td>\n",
       "      <td>129880.000000</td>\n",
       "      <td>129880.000000</td>\n",
       "    </tr>\n",
       "    <tr>\n",
       "      <th>mean</th>\n",
       "      <td>1.600801</td>\n",
       "      <td>0.816908</td>\n",
       "      <td>0.309416</td>\n",
       "      <td>1.406136</td>\n",
       "      <td>1190.316392</td>\n",
       "      <td>14.713713</td>\n",
       "      <td>15.091129</td>\n",
       "      <td>3.057599</td>\n",
       "      <td>2.756876</td>\n",
       "      <td>3.306267</td>\n",
       "      <td>3.252633</td>\n",
       "      <td>2.976925</td>\n",
       "      <td>3.383023</td>\n",
       "      <td>3.441361</td>\n",
       "      <td>3.350878</td>\n",
       "      <td>3.286326</td>\n",
       "      <td>3.204774</td>\n",
       "      <td>3.642193</td>\n",
       "      <td>2.728696</td>\n",
       "      <td>3.358077</td>\n",
       "      <td>3.632114</td>\n",
       "      <td>0.565537</td>\n",
       "    </tr>\n",
       "    <tr>\n",
       "      <th>std</th>\n",
       "      <td>0.654171</td>\n",
       "      <td>0.386743</td>\n",
       "      <td>0.462255</td>\n",
       "      <td>0.621378</td>\n",
       "      <td>997.452477</td>\n",
       "      <td>38.071126</td>\n",
       "      <td>38.407410</td>\n",
       "      <td>1.526741</td>\n",
       "      <td>1.401740</td>\n",
       "      <td>1.266185</td>\n",
       "      <td>1.350719</td>\n",
       "      <td>1.278520</td>\n",
       "      <td>1.287099</td>\n",
       "      <td>1.319289</td>\n",
       "      <td>1.316252</td>\n",
       "      <td>1.313682</td>\n",
       "      <td>1.329933</td>\n",
       "      <td>1.176669</td>\n",
       "      <td>1.329340</td>\n",
       "      <td>1.334049</td>\n",
       "      <td>1.180025</td>\n",
       "      <td>0.495688</td>\n",
       "    </tr>\n",
       "    <tr>\n",
       "      <th>min</th>\n",
       "      <td>1.000000</td>\n",
       "      <td>0.000000</td>\n",
       "      <td>0.000000</td>\n",
       "      <td>0.000000</td>\n",
       "      <td>31.000000</td>\n",
       "      <td>0.000000</td>\n",
       "      <td>0.000000</td>\n",
       "      <td>0.000000</td>\n",
       "      <td>0.000000</td>\n",
       "      <td>0.000000</td>\n",
       "      <td>0.000000</td>\n",
       "      <td>0.000000</td>\n",
       "      <td>0.000000</td>\n",
       "      <td>0.000000</td>\n",
       "      <td>0.000000</td>\n",
       "      <td>0.000000</td>\n",
       "      <td>0.000000</td>\n",
       "      <td>0.000000</td>\n",
       "      <td>0.000000</td>\n",
       "      <td>0.000000</td>\n",
       "      <td>1.000000</td>\n",
       "      <td>0.000000</td>\n",
       "    </tr>\n",
       "    <tr>\n",
       "      <th>25%</th>\n",
       "      <td>1.000000</td>\n",
       "      <td>1.000000</td>\n",
       "      <td>0.000000</td>\n",
       "      <td>1.000000</td>\n",
       "      <td>414.000000</td>\n",
       "      <td>0.000000</td>\n",
       "      <td>0.000000</td>\n",
       "      <td>2.000000</td>\n",
       "      <td>2.000000</td>\n",
       "      <td>3.000000</td>\n",
       "      <td>2.000000</td>\n",
       "      <td>2.000000</td>\n",
       "      <td>2.000000</td>\n",
       "      <td>2.000000</td>\n",
       "      <td>2.000000</td>\n",
       "      <td>2.000000</td>\n",
       "      <td>2.000000</td>\n",
       "      <td>3.000000</td>\n",
       "      <td>2.000000</td>\n",
       "      <td>2.000000</td>\n",
       "      <td>3.000000</td>\n",
       "      <td>0.000000</td>\n",
       "    </tr>\n",
       "    <tr>\n",
       "      <th>50%</th>\n",
       "      <td>2.000000</td>\n",
       "      <td>1.000000</td>\n",
       "      <td>0.000000</td>\n",
       "      <td>1.000000</td>\n",
       "      <td>844.000000</td>\n",
       "      <td>0.000000</td>\n",
       "      <td>0.000000</td>\n",
       "      <td>3.000000</td>\n",
       "      <td>3.000000</td>\n",
       "      <td>3.000000</td>\n",
       "      <td>3.000000</td>\n",
       "      <td>3.000000</td>\n",
       "      <td>4.000000</td>\n",
       "      <td>4.000000</td>\n",
       "      <td>4.000000</td>\n",
       "      <td>3.000000</td>\n",
       "      <td>3.000000</td>\n",
       "      <td>4.000000</td>\n",
       "      <td>3.000000</td>\n",
       "      <td>4.000000</td>\n",
       "      <td>4.000000</td>\n",
       "      <td>1.000000</td>\n",
       "    </tr>\n",
       "    <tr>\n",
       "      <th>75%</th>\n",
       "      <td>2.000000</td>\n",
       "      <td>1.000000</td>\n",
       "      <td>1.000000</td>\n",
       "      <td>2.000000</td>\n",
       "      <td>1744.000000</td>\n",
       "      <td>12.000000</td>\n",
       "      <td>13.000000</td>\n",
       "      <td>4.000000</td>\n",
       "      <td>4.000000</td>\n",
       "      <td>4.000000</td>\n",
       "      <td>4.000000</td>\n",
       "      <td>4.000000</td>\n",
       "      <td>4.000000</td>\n",
       "      <td>5.000000</td>\n",
       "      <td>4.000000</td>\n",
       "      <td>4.000000</td>\n",
       "      <td>4.000000</td>\n",
       "      <td>5.000000</td>\n",
       "      <td>4.000000</td>\n",
       "      <td>4.000000</td>\n",
       "      <td>5.000000</td>\n",
       "      <td>1.000000</td>\n",
       "    </tr>\n",
       "    <tr>\n",
       "      <th>max</th>\n",
       "      <td>3.000000</td>\n",
       "      <td>1.000000</td>\n",
       "      <td>1.000000</td>\n",
       "      <td>2.000000</td>\n",
       "      <td>4983.000000</td>\n",
       "      <td>1592.000000</td>\n",
       "      <td>1584.000000</td>\n",
       "      <td>5.000000</td>\n",
       "      <td>5.000000</td>\n",
       "      <td>5.000000</td>\n",
       "      <td>5.000000</td>\n",
       "      <td>5.000000</td>\n",
       "      <td>5.000000</td>\n",
       "      <td>5.000000</td>\n",
       "      <td>5.000000</td>\n",
       "      <td>5.000000</td>\n",
       "      <td>5.000000</td>\n",
       "      <td>5.000000</td>\n",
       "      <td>5.000000</td>\n",
       "      <td>5.000000</td>\n",
       "      <td>5.000000</td>\n",
       "      <td>1.000000</td>\n",
       "    </tr>\n",
       "  </tbody>\n",
       "</table></div>"
      ],
      "text/plain": [
       "                 age   customerType   typeOfTravel          class  \\\n",
       "count  129880.000000  129880.000000  129880.000000  129880.000000   \n",
       "mean        1.600801       0.816908       0.309416       1.406136   \n",
       "std         0.654171       0.386743       0.462255       0.621378   \n",
       "min         1.000000       0.000000       0.000000       0.000000   \n",
       "25%         1.000000       1.000000       0.000000       1.000000   \n",
       "50%         2.000000       1.000000       0.000000       1.000000   \n",
       "75%         2.000000       1.000000       1.000000       2.000000   \n",
       "max         3.000000       1.000000       1.000000       2.000000   \n",
       "\n",
       "       flightDistance  departureDelay   arrivalDelay  \\\n",
       "count   129880.000000   129880.000000  129880.000000   \n",
       "mean      1190.316392       14.713713      15.091129   \n",
       "std        997.452477       38.071126      38.407410   \n",
       "min         31.000000        0.000000       0.000000   \n",
       "25%        414.000000        0.000000       0.000000   \n",
       "50%        844.000000        0.000000       0.000000   \n",
       "75%       1744.000000       12.000000      13.000000   \n",
       "max       4983.000000     1592.000000    1584.000000   \n",
       "\n",
       "       departureAndArrivalTimeConvenience  easeOfOnlineBooking  \\\n",
       "count                       129880.000000        129880.000000   \n",
       "mean                             3.057599             2.756876   \n",
       "std                              1.526741             1.401740   \n",
       "min                              0.000000             0.000000   \n",
       "25%                              2.000000             2.000000   \n",
       "50%                              3.000000             3.000000   \n",
       "75%                              4.000000             4.000000   \n",
       "max                              5.000000             5.000000   \n",
       "\n",
       "       checkinService  onlineBoarding   gateLocation  onboardService  \\\n",
       "count   129880.000000   129880.000000  129880.000000   129880.000000   \n",
       "mean         3.306267        3.252633       2.976925        3.383023   \n",
       "std          1.266185        1.350719       1.278520        1.287099   \n",
       "min          0.000000        0.000000       0.000000        0.000000   \n",
       "25%          3.000000        2.000000       2.000000        2.000000   \n",
       "50%          3.000000        3.000000       3.000000        4.000000   \n",
       "75%          4.000000        4.000000       4.000000        4.000000   \n",
       "max          5.000000        5.000000       5.000000        5.000000   \n",
       "\n",
       "         seatComfort  legRoomService    cleanliness   foodAndDrink  \\\n",
       "count  129880.000000   129880.000000  129880.000000  129880.000000   \n",
       "mean        3.441361        3.350878       3.286326       3.204774   \n",
       "std         1.319289        1.316252       1.313682       1.329933   \n",
       "min         0.000000        0.000000       0.000000       0.000000   \n",
       "25%         2.000000        2.000000       2.000000       2.000000   \n",
       "50%         4.000000        4.000000       3.000000       3.000000   \n",
       "75%         5.000000        4.000000       4.000000       4.000000   \n",
       "max         5.000000        5.000000       5.000000       5.000000   \n",
       "\n",
       "       inflightService  inflightWifiService  inflightEntertainment  \\\n",
       "count    129880.000000        129880.000000          129880.000000   \n",
       "mean          3.642193             2.728696               3.358077   \n",
       "std           1.176669             1.329340               1.334049   \n",
       "min           0.000000             0.000000               0.000000   \n",
       "25%           3.000000             2.000000               2.000000   \n",
       "50%           4.000000             3.000000               4.000000   \n",
       "75%           5.000000             4.000000               4.000000   \n",
       "max           5.000000             5.000000               5.000000   \n",
       "\n",
       "       baggageHandling   satisfaction  \n",
       "count    129880.000000  129880.000000  \n",
       "mean          3.632114       0.565537  \n",
       "std           1.180025       0.495688  \n",
       "min           1.000000       0.000000  \n",
       "25%           3.000000       0.000000  \n",
       "50%           4.000000       1.000000  \n",
       "75%           5.000000       1.000000  \n",
       "max           5.000000       1.000000  "
      ]
     },
     "execution_count": 38,
     "metadata": {},
     "output_type": "execute_result"
    }
   ],
   "source": [
    "d.describe()"
   ]
  },
  {
   "cell_type": "code",
   "execution_count": 40,
   "id": "0ed0d800",
   "metadata": {},
   "outputs": [
    {
     "data": {
      "text/plain": [
       "satisfaction                          1.00\n",
       "onlineBoarding                        0.50\n",
       "typeOfTravel                          0.45\n",
       "class                                 0.45\n",
       "inflightEntertainment                 0.40\n",
       "seatComfort                           0.35\n",
       "onboardService                        0.32\n",
       "legRoomService                        0.31\n",
       "cleanliness                           0.31\n",
       "flightDistance                        0.30\n",
       "inflightWifiService                   0.28\n",
       "baggageHandling                       0.25\n",
       "inflightService                       0.24\n",
       "checkinService                        0.24\n",
       "foodAndDrink                          0.21\n",
       "customerType                          0.19\n",
       "easeOfOnlineBooking                   0.17\n",
       "age                                   0.09\n",
       "arrivalDelay                          0.06\n",
       "departureAndArrivalTimeConvenience    0.05\n",
       "departureDelay                        0.05\n",
       "gateLocation                          0.00\n",
       "Name: satisfaction, dtype: float64"
      ]
     },
     "execution_count": 40,
     "metadata": {},
     "output_type": "execute_result"
    }
   ],
   "source": [
    "cor = d.corr(method = 'pearson')\n",
    "cor = round(abs(cor.satisfaction), 2)\n",
    "cor.sort_values(ascending=False)"
   ]
  },
  {
   "cell_type": "markdown",
   "id": "7f04fde4",
   "metadata": {},
   "source": [
    "#### As expected gatelocation has no corelation with the satisfaction so we can avoid while creating model "
   ]
  },
  {
   "cell_type": "markdown",
   "id": "b5a9569c",
   "metadata": {},
   "source": [
    "### Part 7: <u>Model Creation<u>"
   ]
  },
  {
   "cell_type": "markdown",
   "id": "ac27b72a",
   "metadata": {},
   "source": [
    "#### <u>Splitting the dataset:<u>\n",
    "* test_size = 0.25 so that data is split into 75% and 25%\n",
    "* random_state is applied so that each time we run we get the same result \n",
    "\n",
    "    \n",
    "* Target is satisfaction of passengers.\n",
    "* Features ( Customer Type, Age, Type of Travel, Class,\n",
    "Seat comfort, Food and drink, In flight wifi service, In flight entertainment, Online support, Ease of Online booking,\n",
    "On-board service, Leg room service, Baggage handling,\n",
    "Check in service, Cleanliness, Online boarding)."
   ]
  },
  {
   "cell_type": "code",
   "execution_count": null,
   "id": "ff50db14",
   "metadata": {},
   "outputs": [],
   "source": [
    "df[:2]"
   ]
  },
  {
   "cell_type": "code",
   "execution_count": 43,
   "id": "44e3bfcd",
   "metadata": {},
   "outputs": [],
   "source": [
    "x = d.drop(['satisfaction', \"gateLocation\"], axis=1)\n",
    "y = d['satisfaction']\n"
   ]
  },
  {
   "cell_type": "code",
   "execution_count": 44,
   "id": "e5dd1f5a",
   "metadata": {},
   "outputs": [
    {
     "data": {
      "text/html": [
       "<div><div id=08607eec-3431-48b4-8791-8b6981ce028c style=\"display:none; background-color:#9D6CFF; color:white; width:200px; height:30px; padding-left:5px; border-radius:4px; flex-direction:row; justify-content:space-around; align-items:center;\" onmouseover=\"this.style.backgroundColor='#BA9BF8'\" onmouseout=\"this.style.backgroundColor='#9D6CFF'\" onclick=\"window.commands?.execute('create-mitosheet-from-dataframe-output');\">See Full Dataframe in Mito</div> <script> if (window.commands?.hasCommand('create-mitosheet-from-dataframe-output')) document.getElementById('08607eec-3431-48b4-8791-8b6981ce028c').style.display = 'flex' </script> <table border=\"1\" class=\"dataframe\">\n",
       "  <thead>\n",
       "    <tr style=\"text-align: right;\">\n",
       "      <th></th>\n",
       "      <th>age</th>\n",
       "      <th>customerType</th>\n",
       "      <th>typeOfTravel</th>\n",
       "      <th>class</th>\n",
       "      <th>flightDistance</th>\n",
       "      <th>departureDelay</th>\n",
       "      <th>arrivalDelay</th>\n",
       "      <th>departureAndArrivalTimeConvenience</th>\n",
       "      <th>easeOfOnlineBooking</th>\n",
       "      <th>checkinService</th>\n",
       "      <th>onlineBoarding</th>\n",
       "      <th>onboardService</th>\n",
       "      <th>seatComfort</th>\n",
       "      <th>legRoomService</th>\n",
       "      <th>cleanliness</th>\n",
       "      <th>foodAndDrink</th>\n",
       "      <th>inflightService</th>\n",
       "      <th>inflightWifiService</th>\n",
       "      <th>inflightEntertainment</th>\n",
       "      <th>baggageHandling</th>\n",
       "    </tr>\n",
       "  </thead>\n",
       "  <tbody>\n",
       "    <tr>\n",
       "      <th>0</th>\n",
       "      <td>2</td>\n",
       "      <td>0</td>\n",
       "      <td>0</td>\n",
       "      <td>2</td>\n",
       "      <td>821</td>\n",
       "      <td>2</td>\n",
       "      <td>5.0</td>\n",
       "      <td>3</td>\n",
       "      <td>3</td>\n",
       "      <td>4</td>\n",
       "      <td>3</td>\n",
       "      <td>3</td>\n",
       "      <td>5</td>\n",
       "      <td>2</td>\n",
       "      <td>5</td>\n",
       "      <td>5</td>\n",
       "      <td>5</td>\n",
       "      <td>3</td>\n",
       "      <td>5</td>\n",
       "      <td>5</td>\n",
       "    </tr>\n",
       "    <tr>\n",
       "      <th>1</th>\n",
       "      <td>1</td>\n",
       "      <td>1</td>\n",
       "      <td>0</td>\n",
       "      <td>2</td>\n",
       "      <td>821</td>\n",
       "      <td>26</td>\n",
       "      <td>39.0</td>\n",
       "      <td>2</td>\n",
       "      <td>2</td>\n",
       "      <td>3</td>\n",
       "      <td>5</td>\n",
       "      <td>5</td>\n",
       "      <td>4</td>\n",
       "      <td>5</td>\n",
       "      <td>5</td>\n",
       "      <td>3</td>\n",
       "      <td>5</td>\n",
       "      <td>2</td>\n",
       "      <td>5</td>\n",
       "      <td>5</td>\n",
       "    </tr>\n",
       "    <tr>\n",
       "      <th>2</th>\n",
       "      <td>2</td>\n",
       "      <td>1</td>\n",
       "      <td>0</td>\n",
       "      <td>2</td>\n",
       "      <td>853</td>\n",
       "      <td>0</td>\n",
       "      <td>0.0</td>\n",
       "      <td>4</td>\n",
       "      <td>4</td>\n",
       "      <td>4</td>\n",
       "      <td>5</td>\n",
       "      <td>3</td>\n",
       "      <td>5</td>\n",
       "      <td>3</td>\n",
       "      <td>5</td>\n",
       "      <td>5</td>\n",
       "      <td>3</td>\n",
       "      <td>4</td>\n",
       "      <td>3</td>\n",
       "      <td>3</td>\n",
       "    </tr>\n",
       "    <tr>\n",
       "      <th>3</th>\n",
       "      <td>2</td>\n",
       "      <td>1</td>\n",
       "      <td>0</td>\n",
       "      <td>2</td>\n",
       "      <td>1905</td>\n",
       "      <td>0</td>\n",
       "      <td>0.0</td>\n",
       "      <td>2</td>\n",
       "      <td>2</td>\n",
       "      <td>3</td>\n",
       "      <td>4</td>\n",
       "      <td>5</td>\n",
       "      <td>5</td>\n",
       "      <td>5</td>\n",
       "      <td>4</td>\n",
       "      <td>4</td>\n",
       "      <td>5</td>\n",
       "      <td>2</td>\n",
       "      <td>5</td>\n",
       "      <td>5</td>\n",
       "    </tr>\n",
       "    <tr>\n",
       "      <th>4</th>\n",
       "      <td>2</td>\n",
       "      <td>1</td>\n",
       "      <td>0</td>\n",
       "      <td>2</td>\n",
       "      <td>3470</td>\n",
       "      <td>0</td>\n",
       "      <td>1.0</td>\n",
       "      <td>3</td>\n",
       "      <td>3</td>\n",
       "      <td>3</td>\n",
       "      <td>5</td>\n",
       "      <td>3</td>\n",
       "      <td>4</td>\n",
       "      <td>4</td>\n",
       "      <td>5</td>\n",
       "      <td>4</td>\n",
       "      <td>3</td>\n",
       "      <td>3</td>\n",
       "      <td>3</td>\n",
       "      <td>3</td>\n",
       "    </tr>\n",
       "    <tr>\n",
       "      <th>...</th>\n",
       "      <td>...</td>\n",
       "      <td>...</td>\n",
       "      <td>...</td>\n",
       "      <td>...</td>\n",
       "      <td>...</td>\n",
       "      <td>...</td>\n",
       "      <td>...</td>\n",
       "      <td>...</td>\n",
       "      <td>...</td>\n",
       "      <td>...</td>\n",
       "      <td>...</td>\n",
       "      <td>...</td>\n",
       "      <td>...</td>\n",
       "      <td>...</td>\n",
       "      <td>...</td>\n",
       "      <td>...</td>\n",
       "      <td>...</td>\n",
       "      <td>...</td>\n",
       "      <td>...</td>\n",
       "      <td>...</td>\n",
       "    </tr>\n",
       "    <tr>\n",
       "      <th>129875</th>\n",
       "      <td>1</td>\n",
       "      <td>1</td>\n",
       "      <td>1</td>\n",
       "      <td>0</td>\n",
       "      <td>447</td>\n",
       "      <td>2</td>\n",
       "      <td>3.0</td>\n",
       "      <td>4</td>\n",
       "      <td>4</td>\n",
       "      <td>4</td>\n",
       "      <td>4</td>\n",
       "      <td>5</td>\n",
       "      <td>1</td>\n",
       "      <td>4</td>\n",
       "      <td>4</td>\n",
       "      <td>4</td>\n",
       "      <td>5</td>\n",
       "      <td>4</td>\n",
       "      <td>4</td>\n",
       "      <td>4</td>\n",
       "    </tr>\n",
       "    <tr>\n",
       "      <th>129876</th>\n",
       "      <td>2</td>\n",
       "      <td>1</td>\n",
       "      <td>1</td>\n",
       "      <td>0</td>\n",
       "      <td>308</td>\n",
       "      <td>0</td>\n",
       "      <td>0.0</td>\n",
       "      <td>5</td>\n",
       "      <td>3</td>\n",
       "      <td>5</td>\n",
       "      <td>3</td>\n",
       "      <td>5</td>\n",
       "      <td>2</td>\n",
       "      <td>5</td>\n",
       "      <td>2</td>\n",
       "      <td>2</td>\n",
       "      <td>4</td>\n",
       "      <td>3</td>\n",
       "      <td>2</td>\n",
       "      <td>5</td>\n",
       "    </tr>\n",
       "    <tr>\n",
       "      <th>129877</th>\n",
       "      <td>2</td>\n",
       "      <td>1</td>\n",
       "      <td>1</td>\n",
       "      <td>0</td>\n",
       "      <td>337</td>\n",
       "      <td>6</td>\n",
       "      <td>14.0</td>\n",
       "      <td>5</td>\n",
       "      <td>2</td>\n",
       "      <td>4</td>\n",
       "      <td>2</td>\n",
       "      <td>3</td>\n",
       "      <td>3</td>\n",
       "      <td>4</td>\n",
       "      <td>3</td>\n",
       "      <td>3</td>\n",
       "      <td>4</td>\n",
       "      <td>2</td>\n",
       "      <td>3</td>\n",
       "      <td>5</td>\n",
       "    </tr>\n",
       "    <tr>\n",
       "      <th>129878</th>\n",
       "      <td>2</td>\n",
       "      <td>1</td>\n",
       "      <td>1</td>\n",
       "      <td>0</td>\n",
       "      <td>337</td>\n",
       "      <td>31</td>\n",
       "      <td>22.0</td>\n",
       "      <td>4</td>\n",
       "      <td>4</td>\n",
       "      <td>3</td>\n",
       "      <td>4</td>\n",
       "      <td>4</td>\n",
       "      <td>4</td>\n",
       "      <td>5</td>\n",
       "      <td>3</td>\n",
       "      <td>3</td>\n",
       "      <td>4</td>\n",
       "      <td>5</td>\n",
       "      <td>3</td>\n",
       "      <td>5</td>\n",
       "    </tr>\n",
       "    <tr>\n",
       "      <th>129879</th>\n",
       "      <td>1</td>\n",
       "      <td>1</td>\n",
       "      <td>1</td>\n",
       "      <td>0</td>\n",
       "      <td>337</td>\n",
       "      <td>0</td>\n",
       "      <td>0.0</td>\n",
       "      <td>1</td>\n",
       "      <td>3</td>\n",
       "      <td>4</td>\n",
       "      <td>3</td>\n",
       "      <td>4</td>\n",
       "      <td>2</td>\n",
       "      <td>4</td>\n",
       "      <td>2</td>\n",
       "      <td>2</td>\n",
       "      <td>2</td>\n",
       "      <td>3</td>\n",
       "      <td>2</td>\n",
       "      <td>1</td>\n",
       "    </tr>\n",
       "  </tbody>\n",
       "</table></div>"
      ],
      "text/plain": [
       "        age  customerType  typeOfTravel  class  flightDistance  \\\n",
       "0         2             0             0      2             821   \n",
       "1         1             1             0      2             821   \n",
       "2         2             1             0      2             853   \n",
       "3         2             1             0      2            1905   \n",
       "4         2             1             0      2            3470   \n",
       "...     ...           ...           ...    ...             ...   \n",
       "129875    1             1             1      0             447   \n",
       "129876    2             1             1      0             308   \n",
       "129877    2             1             1      0             337   \n",
       "129878    2             1             1      0             337   \n",
       "129879    1             1             1      0             337   \n",
       "\n",
       "        departureDelay  arrivalDelay  departureAndArrivalTimeConvenience  \\\n",
       "0                    2           5.0                                   3   \n",
       "1                   26          39.0                                   2   \n",
       "2                    0           0.0                                   4   \n",
       "3                    0           0.0                                   2   \n",
       "4                    0           1.0                                   3   \n",
       "...                ...           ...                                 ...   \n",
       "129875               2           3.0                                   4   \n",
       "129876               0           0.0                                   5   \n",
       "129877               6          14.0                                   5   \n",
       "129878              31          22.0                                   4   \n",
       "129879               0           0.0                                   1   \n",
       "\n",
       "        easeOfOnlineBooking  checkinService  onlineBoarding  onboardService  \\\n",
       "0                         3               4               3               3   \n",
       "1                         2               3               5               5   \n",
       "2                         4               4               5               3   \n",
       "3                         2               3               4               5   \n",
       "4                         3               3               5               3   \n",
       "...                     ...             ...             ...             ...   \n",
       "129875                    4               4               4               5   \n",
       "129876                    3               5               3               5   \n",
       "129877                    2               4               2               3   \n",
       "129878                    4               3               4               4   \n",
       "129879                    3               4               3               4   \n",
       "\n",
       "        seatComfort  legRoomService  cleanliness  foodAndDrink  \\\n",
       "0                 5               2            5             5   \n",
       "1                 4               5            5             3   \n",
       "2                 5               3            5             5   \n",
       "3                 5               5            4             4   \n",
       "4                 4               4            5             4   \n",
       "...             ...             ...          ...           ...   \n",
       "129875            1               4            4             4   \n",
       "129876            2               5            2             2   \n",
       "129877            3               4            3             3   \n",
       "129878            4               5            3             3   \n",
       "129879            2               4            2             2   \n",
       "\n",
       "        inflightService  inflightWifiService  inflightEntertainment  \\\n",
       "0                     5                    3                      5   \n",
       "1                     5                    2                      5   \n",
       "2                     3                    4                      3   \n",
       "3                     5                    2                      5   \n",
       "4                     3                    3                      3   \n",
       "...                 ...                  ...                    ...   \n",
       "129875                5                    4                      4   \n",
       "129876                4                    3                      2   \n",
       "129877                4                    2                      3   \n",
       "129878                4                    5                      3   \n",
       "129879                2                    3                      2   \n",
       "\n",
       "        baggageHandling  \n",
       "0                     5  \n",
       "1                     5  \n",
       "2                     3  \n",
       "3                     5  \n",
       "4                     3  \n",
       "...                 ...  \n",
       "129875                4  \n",
       "129876                5  \n",
       "129877                5  \n",
       "129878                5  \n",
       "129879                1  \n",
       "\n",
       "[129880 rows x 20 columns]"
      ]
     },
     "execution_count": 44,
     "metadata": {},
     "output_type": "execute_result"
    }
   ],
   "source": [
    "x"
   ]
  },
  {
   "cell_type": "code",
   "execution_count": 45,
   "id": "beba500f",
   "metadata": {},
   "outputs": [
    {
     "data": {
      "text/plain": [
       "0         1\n",
       "1         0\n",
       "2         0\n",
       "3         0\n",
       "4         0\n",
       "         ..\n",
       "129875    1\n",
       "129876    1\n",
       "129877    1\n",
       "129878    0\n",
       "129879    1\n",
       "Name: satisfaction, Length: 129880, dtype: int64"
      ]
     },
     "execution_count": 45,
     "metadata": {},
     "output_type": "execute_result"
    }
   ],
   "source": [
    "y"
   ]
  },
  {
   "cell_type": "code",
   "execution_count": 46,
   "id": "3f863649",
   "metadata": {},
   "outputs": [],
   "source": [
    "x_train, x_test, y_train, y_test = train_test_split(x,y,test_size=0.25,random_state=27)\n"
   ]
  },
  {
   "cell_type": "code",
   "execution_count": 47,
   "id": "4e2ac004",
   "metadata": {},
   "outputs": [
    {
     "name": "stdout",
     "output_type": "stream",
     "text": [
      "(97410, 20)\n",
      "(32470, 20)\n",
      "(97410,)\n",
      "(32470,)\n"
     ]
    }
   ],
   "source": [
    "print(x_train.shape)\n",
    "print(x_test.shape)\n",
    "print(y_train.shape)\n",
    "print(y_test.shape)"
   ]
  },
  {
   "cell_type": "markdown",
   "id": "7703a774",
   "metadata": {},
   "source": [
    "#### Training the data with Some of the ML approaches:\n",
    "* Logistic Regression\n",
    "* KNN\n",
    "* Random Forest Classifier\n",
    "* Decision Tree Classifier\n",
    "* Naive Bayes Classifier\n",
    "* AdaBoost Classifier\n",
    "    "
   ]
  },
  {
   "cell_type": "markdown",
   "id": "502cb27b",
   "metadata": {},
   "source": [
    "####  ML approach Functions\n",
    "* Model fitting\n",
    "* Predicting using test \n",
    "* Accuracy score\n",
    "* ROC curve\n",
    "* AUC score\n",
    "* confusion matrix\n",
    "* Classification_matrix\n",
    "* time taken by each model\n"
   ]
  },
  {
   "cell_type": "code",
   "execution_count": 48,
   "id": "92e6589b",
   "metadata": {},
   "outputs": [],
   "source": [
    "def model_create(model, x_train=x_train, y_train=y_train, x_test=x_test, y_test=y_test):\n",
    "    intial_time = time.time()\n",
    "    model.fit(x_train,y_train.ravel())\n",
    "        \n",
    "    y_pred = model.predict(x_test)\n",
    "    \n",
    "    accuracy = accuracy_score(y_test, y_pred)\n",
    "    print(\"Точность прогноза = {}\".format(accuracy))\n",
    "    \n",
    "    roc_auc = roc_auc_score(y_test, y_pred) \n",
    "    print(\"AUC ROC - Площадь под кривой ошибок = {}\".format(roc_auc))\n",
    "    \n",
    "    time_taken = time.time()-intial_time\n",
    "    print(\"Затраченное время = {}\".format(time_taken))\n",
    "    \n",
    "    print(classification_report(y_test,y_pred,digits=5))\n",
    "    \n",
    "    plot_confusion_matrix(model, x_test, y_test,cmap = plt.cm.pink, normalize = 'all')\n",
    "    \n",
    "    plot_roc_curve(model, x_test, y_test)                     \n",
    "    \n",
    "    return model, accuracy, roc_auc, time_taken"
   ]
  },
  {
   "cell_type": "code",
   "execution_count": 49,
   "id": "cd4c9359",
   "metadata": {},
   "outputs": [],
   "source": [
    "df_class_accuracy = pd.DataFrame(columns=['Метод', 'Точность', 'Площадь под кривой ошибок', 'Время'])"
   ]
  },
  {
   "cell_type": "markdown",
   "id": "0d589ec2",
   "metadata": {},
   "source": [
    "### <u>Logistic Regression :<u>\n",
    "* Logistic regression models a relationship between predictor variables and a categorical response variable. Here, we could use logistic regression to model the relationship between various features of purchasing to predict if a person have lung cancer or not (a binary variable: either yes or no). Logistic regression helps us estimate a probability of falling into a certain level of the categorical response given a set of predictors."
   ]
  },
  {
   "cell_type": "code",
   "execution_count": 58,
   "id": "5cc2d8ff",
   "metadata": {},
   "outputs": [
    {
     "name": "stdout",
     "output_type": "stream",
     "text": [
      "Точность прогноза = 0.801632275947028\n",
      "AUC ROC - Площадь под кривой ошибок = 0.7998296467681514\n",
      "Затраченное время = 0.764807939529419\n",
      "              precision    recall  f1-score   support\n",
      "\n",
      "           0    0.76123   0.78673   0.77377     14001\n",
      "           1    0.83411   0.81293   0.82338     18469\n",
      "\n",
      "    accuracy                        0.80163     32470\n",
      "   macro avg    0.79767   0.79983   0.79858     32470\n",
      "weighted avg    0.80268   0.80163   0.80199     32470\n",
      "\n"
     ]
    },
    {
     "data": {
      "image/png": "[encoded data removed]",
      "text/plain": [
       "<Figure size 640x480 with 2 Axes>"
      ]
     },
     "metadata": {},
     "output_type": "display_data"
    },
    {
     "data": {
      "image/png": "[encoded data removed]",
      "text/plain": [
       "<Figure size 640x480 with 1 Axes>"
      ]
     },
     "metadata": {},
     "output_type": "display_data"
    }
   ],
   "source": [
    "model_LR = LogisticRegression()\n",
    "model_LR, accuracy_LR, roc_auc_LR, time_LR = model_create(model_LR, x_train, y_train, x_test, y_test)\n",
    "\n",
    "df_class_accuracy.loc[len(df_class_accuracy)] = ['Logistic Regression', accuracy_LR, roc_auc_LR, time_LR]"
   ]
  },
  {
   "cell_type": "markdown",
   "id": "59674161",
   "metadata": {},
   "source": [
    "### <u>Decision Tree:<u>\n",
    "* Decision tree regression observes features of an object and trains a model in the structure of a tree to predict data in the future to produce meaningful continuous output. Continuous output means that the output/result is not discrete, i.e., it is not represented just by a discrete, known set of numbers or values."
   ]
  },
  {
   "cell_type": "code",
   "execution_count": 59,
   "id": "e6f23863",
   "metadata": {},
   "outputs": [
    {
     "name": "stdout",
     "output_type": "stream",
     "text": [
      "Точность прогноза = 0.9429319371727749\n",
      "AUC ROC - Площадь под кривой ошибок = 0.9419903346940763\n",
      "Затраченное время = 0.5964930057525635\n",
      "              precision    recall  f1-score   support\n",
      "\n",
      "           0    0.93268   0.93515   0.93391     14001\n",
      "           1    0.95074   0.94883   0.94978     18469\n",
      "\n",
      "    accuracy                        0.94293     32470\n",
      "   macro avg    0.94171   0.94199   0.94185     32470\n",
      "weighted avg    0.94295   0.94293   0.94294     32470\n",
      "\n"
     ]
    },
    {
     "data": {
      "image/png": "[encoded data removed]",
      "text/plain": [
       "<Figure size 640x480 with 2 Axes>"
      ]
     },
     "metadata": {},
     "output_type": "display_data"
    },
    {
     "data": {
      "image/png": "[encoded data removed]",
      "text/plain": [
       "<Figure size 640x480 with 1 Axes>"
      ]
     },
     "metadata": {},
     "output_type": "display_data"
    }
   ],
   "source": [
    "model_DC = DecisionTreeClassifier()\n",
    "model_DC, accuracy_DC, roc_auc_DC, time_DC = model_create(model_DC, x_train, y_train, x_test, y_test)\n",
    "\n",
    "df_class_accuracy.loc[len(df_class_accuracy)] = ['Decision Tree', accuracy_DC, roc_auc_DC, time_DC]"
   ]
  },
  {
   "cell_type": "markdown",
   "id": "4e1e08a8",
   "metadata": {},
   "source": [
    "### <u>Random Forest:<u>\n",
    "* Random forests is a supervised learning algorithm. It can be used both for classification and regression. \n",
    "* It is also the most flexible and easy to use algorithm. A forest is comprised of trees. It is said that the more trees it has, the more robust a forest is. Random forests creates decision trees on randomly selected data samples, gets prediction from each tree and selects the best solution by means of voting. It also provides a pretty good indicator of the feature importance. "
   ]
  },
  {
   "cell_type": "code",
   "execution_count": 52,
   "id": "31a92b9f",
   "metadata": {},
   "outputs": [
    {
     "name": "stdout",
     "output_type": "stream",
     "text": [
      "Точность прогноза = 0.9607637819525716\n",
      "AUC ROC - Площадь под кривой ошибок = 0.9580367411779862\n",
      "Затраченное время = 9.170745849609375\n",
      "              precision    recall  f1-score   support\n",
      "\n",
      "           0    0.96980   0.93822   0.95375     14001\n",
      "           1    0.95429   0.97785   0.96593     18469\n",
      "\n",
      "    accuracy                        0.96076     32470\n",
      "   macro avg    0.96205   0.95804   0.95984     32470\n",
      "weighted avg    0.96098   0.96076   0.96068     32470\n",
      "\n"
     ]
    },
    {
     "data": {
      "image/png": "[encoded data removed]",
      "text/plain": [
       "<Figure size 640x480 with 2 Axes>"
      ]
     },
     "metadata": {},
     "output_type": "display_data"
    },
    {
     "data": {
      "image/png": "[encoded data removed]",
      "text/plain": [
       "<Figure size 640x480 with 1 Axes>"
      ]
     },
     "metadata": {},
     "output_type": "display_data"
    }
   ],
   "source": [
    "model_RF = RandomForestClassifier()\n",
    "model_RF, accuracy_RF, roc_auc_RF, time_RF = model_create(model_RF, x_train, y_train, x_test, y_test)\n",
    "\n",
    "\n",
    "df_class_accuracy.loc[len(df_class_accuracy)] = ['Random Forest', accuracy_RF, roc_auc_RF, time_RF]"
   ]
  },
  {
   "cell_type": "markdown",
   "id": "5cf40779",
   "metadata": {},
   "source": [
    "### <u>Naive Bayes Classifier:<u>\n",
    "* Naive Bayes classifiers are a collection of classification algorithms based on Bayes’ Theorem. It is not a single algorithm but a family of algorithms where all of them share a common principle, i.e. every pair of features being classified is independent of each other."
   ]
  },
  {
   "cell_type": "code",
   "execution_count": 53,
   "id": "633e017a",
   "metadata": {
    "scrolled": true
   },
   "outputs": [
    {
     "name": "stdout",
     "output_type": "stream",
     "text": [
      "Точность прогноза = 0.8665537419156144\n",
      "AUC ROC - Площадь под кривой ошибок = 0.8606822805742443\n",
      "Затраченное время = 0.13495421409606934\n",
      "              precision    recall  f1-score   support\n",
      "\n",
      "           0    0.86516   0.81801   0.84093     14001\n",
      "           1    0.86751   0.90335   0.88507     18469\n",
      "\n",
      "    accuracy                        0.86655     32470\n",
      "   macro avg    0.86634   0.86068   0.86300     32470\n",
      "weighted avg    0.86650   0.86655   0.86604     32470\n",
      "\n"
     ]
    },
    {
     "data": {
      "image/png": "[encoded data removed]",
      "text/plain": [
       "<Figure size 640x480 with 2 Axes>"
      ]
     },
     "metadata": {},
     "output_type": "display_data"
    },
    {
     "data": {
      "image/png": "[encoded data removed]",
      "text/plain": [
       "<Figure size 640x480 with 1 Axes>"
      ]
     },
     "metadata": {},
     "output_type": "display_data"
    }
   ],
   "source": [
    "model_NB = GaussianNB() \n",
    "model_NB, accuracy_NB, roc_auc_NB, time_NB = model_create(model_NB, x_train, y_train, x_test, y_test)\n",
    "\n",
    "df_class_accuracy.loc[len(df_class_accuracy)] = ['Naive Bayes Classifier', accuracy_NB, roc_auc_NB, time_NB]"
   ]
  },
  {
   "cell_type": "markdown",
   "id": "e59d6844",
   "metadata": {},
   "source": [
    "### <u>K-Nearest Neighbors<u>\n",
    "* The K-Nearest Neighbors or KNN Classification is a simple and easy to implement, supervised machine learning algorithm that is used mostly for classification problems but applicable for regression problems too."
   ]
  },
  {
   "cell_type": "code",
   "execution_count": 54,
   "id": "3c436346",
   "metadata": {},
   "outputs": [
    {
     "name": "stdout",
     "output_type": "stream",
     "text": [
      "Точность прогноза = 0.7860178626424392\n",
      "AUC ROC - Площадь под кривой ошибок = 0.7749419126946869\n",
      "Затраченное время = 64.98082709312439\n",
      "              precision    recall  f1-score   support\n",
      "\n",
      "           0    0.78456   0.69445   0.73676     14001\n",
      "           1    0.78692   0.85543   0.81975     18469\n",
      "\n",
      "    accuracy                        0.78602     32470\n",
      "   macro avg    0.78574   0.77494   0.77825     32470\n",
      "weighted avg    0.78590   0.78602   0.78396     32470\n",
      "\n"
     ]
    },
    {
     "data": {
      "image/png": "[encoded data removed]",
      "text/plain": [
       "<Figure size 640x480 with 2 Axes>"
      ]
     },
     "metadata": {},
     "output_type": "display_data"
    },
    {
     "data": {
      "image/png": "[encoded data removed]",
      "text/plain": [
       "<Figure size 640x480 with 1 Axes>"
      ]
     },
     "metadata": {},
     "output_type": "display_data"
    }
   ],
   "source": [
    "model_KNN = KNeighborsClassifier(n_neighbors=5)\n",
    "model_KNN, accuracy_KNN, roc_auc_KNN, time_KNN = model_create(model_KNN, x_train, y_train, x_test, y_test)\n",
    "\n",
    "df_class_accuracy.loc[len(df_class_accuracy)] = ['K-Nearest Neighbors', accuracy_KNN, roc_auc_KNN, time_KNN]"
   ]
  },
  {
   "cell_type": "markdown",
   "id": "f7befb2c",
   "metadata": {},
   "source": [
    "### AdaBoostClassifier\n",
    "        - An AdaBoost classifier is a meta-estimator that begins by fitting a classifier on the original dataset and then fits additional copies of the classifier on the same dataset but where the weights of incorrectly classified instances are adjusted such that subsequent classifiers focus more on difficult cases."
   ]
  },
  {
   "cell_type": "code",
   "execution_count": 55,
   "id": "1451f9ac",
   "metadata": {},
   "outputs": [
    {
     "name": "stdout",
     "output_type": "stream",
     "text": [
      "Точность прогноза = 0.9276562981213428\n",
      "AUC ROC - Площадь под кривой ошибок = 0.9251671665555444\n",
      "Затраченное время = 3.931118965148926\n",
      "              precision    recall  f1-score   support\n",
      "\n",
      "           0    0.92377   0.90708   0.91535     14001\n",
      "           1    0.93051   0.94326   0.93684     18469\n",
      "\n",
      "    accuracy                        0.92766     32470\n",
      "   macro avg    0.92714   0.92517   0.92609     32470\n",
      "weighted avg    0.92760   0.92766   0.92757     32470\n",
      "\n"
     ]
    },
    {
     "data": {
      "image/png": "[encoded data removed]",
      "text/plain": [
       "<Figure size 640x480 with 2 Axes>"
      ]
     },
     "metadata": {},
     "output_type": "display_data"
    },
    {
     "data": {
      "image/png": "[encoded data removed]",
      "text/plain": [
       "<Figure size 640x480 with 1 Axes>"
      ]
     },
     "metadata": {},
     "output_type": "display_data"
    }
   ],
   "source": [
    "model_AB = AdaBoostClassifier(n_estimators=50,learning_rate=1)\n",
    "model_AB, accuracy_AB, roc_auc_AB, time_AB = model_create(model_AB, x_train, y_train, x_test, y_test)\n",
    "\n",
    "df_class_accuracy.loc[len(df_class_accuracy)] = ['AdaBoostClassifier', accuracy_AB, roc_auc_AB, time_AB]"
   ]
  },
  {
   "cell_type": "markdown",
   "id": "644cac39",
   "metadata": {},
   "source": [
    "#### Сравнение моделей \n",
    "- Оценим модели с точки зрения ROC_AUC и общего времени, затраченного на выполнение."
   ]
  },
  {
   "cell_type": "code",
   "execution_count": 65,
   "id": "4a44e6dc",
   "metadata": {},
   "outputs": [
    {
     "data": {
      "text/html": [
       "<div><div id=cf65da2f-2991-481e-a749-797ef687a6e1 style=\"display:none; background-color:#9D6CFF; color:white; width:200px; height:30px; padding-left:5px; border-radius:4px; flex-direction:row; justify-content:space-around; align-items:center;\" onmouseover=\"this.style.backgroundColor='#BA9BF8'\" onmouseout=\"this.style.backgroundColor='#9D6CFF'\" onclick=\"window.commands?.execute('create-mitosheet-from-dataframe-output');\">See Full Dataframe in Mito</div> <script> if (window.commands?.hasCommand('create-mitosheet-from-dataframe-output')) document.getElementById('cf65da2f-2991-481e-a749-797ef687a6e1').style.display = 'flex' </script> <table border=\"1\" class=\"dataframe\">\n",
       "  <thead>\n",
       "    <tr style=\"text-align: right;\">\n",
       "      <th></th>\n",
       "      <th>Метод</th>\n",
       "      <th>Точность</th>\n",
       "      <th>Площадь под кривой ошибок</th>\n",
       "      <th>Время</th>\n",
       "    </tr>\n",
       "  </thead>\n",
       "  <tbody>\n",
       "    <tr>\n",
       "      <th>3</th>\n",
       "      <td>K-Nearest Neighbors</td>\n",
       "      <td>0.786018</td>\n",
       "      <td>0.774942</td>\n",
       "      <td>64.980827</td>\n",
       "    </tr>\n",
       "    <tr>\n",
       "      <th>5</th>\n",
       "      <td>Logistic Regression</td>\n",
       "      <td>0.801632</td>\n",
       "      <td>0.799830</td>\n",
       "      <td>0.764808</td>\n",
       "    </tr>\n",
       "    <tr>\n",
       "      <th>0</th>\n",
       "      <td>Naive Bayes Classifier</td>\n",
       "      <td>0.866554</td>\n",
       "      <td>0.860682</td>\n",
       "      <td>0.105100</td>\n",
       "    </tr>\n",
       "    <tr>\n",
       "      <th>2</th>\n",
       "      <td>Naive Bayes Classifier</td>\n",
       "      <td>0.866554</td>\n",
       "      <td>0.860682</td>\n",
       "      <td>0.134954</td>\n",
       "    </tr>\n",
       "    <tr>\n",
       "      <th>4</th>\n",
       "      <td>AdaBoostClassifier</td>\n",
       "      <td>0.927656</td>\n",
       "      <td>0.925167</td>\n",
       "      <td>3.931119</td>\n",
       "    </tr>\n",
       "    <tr>\n",
       "      <th>6</th>\n",
       "      <td>Decision Tree</td>\n",
       "      <td>0.942932</td>\n",
       "      <td>0.941990</td>\n",
       "      <td>0.596493</td>\n",
       "    </tr>\n",
       "    <tr>\n",
       "      <th>1</th>\n",
       "      <td>Random Forest</td>\n",
       "      <td>0.960764</td>\n",
       "      <td>0.958037</td>\n",
       "      <td>9.170746</td>\n",
       "    </tr>\n",
       "  </tbody>\n",
       "</table></div>"
      ],
      "text/plain": [
       "                    Метод  Точность  Площадь под кривой ошибок      Время\n",
       "3     K-Nearest Neighbors  0.786018                   0.774942  64.980827\n",
       "5     Logistic Regression  0.801632                   0.799830   0.764808\n",
       "0  Naive Bayes Classifier  0.866554                   0.860682   0.105100\n",
       "2  Naive Bayes Classifier  0.866554                   0.860682   0.134954\n",
       "4      AdaBoostClassifier  0.927656                   0.925167   3.931119\n",
       "6           Decision Tree  0.942932                   0.941990   0.596493\n",
       "1           Random Forest  0.960764                   0.958037   9.170746"
      ]
     },
     "execution_count": 65,
     "metadata": {},
     "output_type": "execute_result"
    }
   ],
   "source": [
    "df_class_accuracy.sort_values(by=['Точность'])"
   ]
  },
  {
   "cell_type": "markdown",
   "id": "81e4bce6",
   "metadata": {},
   "source": [
    "# график по трём столбца оценки "
   ]
  },
  {
   "cell_type": "code",
   "execution_count": 57,
   "id": "47b6921f",
   "metadata": {},
   "outputs": [
    {
     "data": {
      "text/plain": [
       "<AxesSubplot:xlabel='Метод'>"
      ]
     },
     "execution_count": 57,
     "metadata": {},
     "output_type": "execute_result"
    },
    {
     "data": {
      "image/png": "[encoded data removed]",
      "text/plain": [
       "<Figure size 640x480 with 1 Axes>"
      ]
     },
     "metadata": {},
     "output_type": "display_data"
    }
   ],
   "source": [
    "df_class_accuracy[['Метод', 'Точность', 'Площадь под кривой ошибок', 'Время']].plot(x='Метод', kind='bar')"
   ]
  },
  {
   "cell_type": "markdown",
   "id": "3a3ba154",
   "metadata": {},
   "source": [
    "### Conclusion:\n",
    "* ROC-AUH curve is maximumum for **Random Forest** and minimum for **KNN** \n",
    "* Time taken is maximum for **KNN** and minimum for **Naive Bayes**\n",
    "##### For a best model  prediction \n",
    "* Maximum ROC_AUC curve\n",
    "* Minimum time is required \n",
    "#### Comparing **Random Forest** is the best from among the models trained to predict the accurate result with an **accuracy** of **96%** and **time taken** to execute is **8.95**"
   ]
  },
  {
   "cell_type": "code",
   "execution_count": null,
   "id": "75ed6f8c",
   "metadata": {},
   "outputs": [],
   "source": []
  },
  {
   "cell_type": "code",
   "execution_count": null,
   "id": "9cf7e316",
   "metadata": {},
   "outputs": [],
   "source": []
  }
 ],
 "metadata": {
  "kernelspec": {
   "display_name": "Python 3 (ipykernel)",
   "language": "python",
   "name": "python3"
  },
  "language_info": {
   "codemirror_mode": {
    "name": "ipython",
    "version": 3
   },
   "file_extension": ".py",
   "mimetype": "text/x-python",
   "name": "python",
   "nbconvert_exporter": "python",
   "pygments_lexer": "ipython3",
   "version": "3.9.13"
  }
 },
 "nbformat": 4,
 "nbformat_minor": 5
}
