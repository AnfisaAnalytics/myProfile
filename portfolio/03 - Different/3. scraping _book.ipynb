{
 "cells": [
  {
   "cell_type": "markdown",
   "id": "720e556e",
   "metadata": {},
   "source": [
    "<div style ='margin: 11px 11px 51px 11px; padding: 55px; border: 1px solid;'>\n",
    "    <p style='text-align: center; margin: auto'>\n",
    "    Поставлена задача – получить парсинг книги с веб-сайта.<br>На выходе необходимо получить файл с данными.</p>\n",
    "</div>"
   ]
  },
  {
   "cell_type": "markdown",
   "id": "f7a306a6",
   "metadata": {},
   "source": [
    "<div style ='margin: 11px 11px 0px 11px; '>\n",
    "    <p style=''>\n",
    "        Используем Selenium, а так же BeautyfullSoup для скрейпинга сайта.<br>\n",
    "    -->Импорт библиотек, составление необходимых функций, входные данные:</p>\n",
    "</div>\n"
   ]
  },
  {
   "cell_type": "code",
   "execution_count": 1,
   "id": "8f0e56ec",
   "metadata": {},
   "outputs": [],
   "source": [
    "# Библиотеки\n",
    "import pathlib\n",
    "from fpdf import FPDF\n",
    "from selenium import webdriver\n",
    "from webdriver_manager.chrome import ChromeDriverManager\n",
    "import pandas as pd\n",
    "from selenium.webdriver.common.keys import Keys\n",
    "import time\n",
    "import math\n",
    "from bs4 import BeautifulSoup\n",
    "import numpy as np\n",
    "import selenium.webdriver.common.keys\n",
    "from selenium.webdriver.common.by import By \n",
    "from selenium.webdriver.support import expected_conditions as EC\n",
    "from selenium.webdriver.support.wait import WebDriverWait #  Создаем список со шрифтами "
   ]
  },
  {
   "cell_type": "code",
   "execution_count": 2,
   "id": "6d692968",
   "metadata": {},
   "outputs": [],
   "source": [
    "# убираем предупреждения\n",
    "import warnings\n",
    "warnings.filterwarnings('ignore')"
   ]
  },
  {
   "cell_type": "code",
   "execution_count": 3,
   "id": "78d3ef32",
   "metadata": {},
   "outputs": [],
   "source": [
    "# Получаем название книги\n",
    "def name_book(el):\n",
    "    el = ' '.join(el.split(' ')[1:-4])\n",
    "    return el"
   ]
  },
  {
   "cell_type": "code",
   "execution_count": 4,
   "id": "4ee2eeb5",
   "metadata": {},
   "outputs": [],
   "source": [
    "# Имя автора\n",
    "def name_author(el):\n",
    "    el = ' '.join(el.split(' ')[0:-3])\n",
    "    return el"
   ]
  },
  {
   "cell_type": "code",
   "execution_count": 5,
   "id": "10c83800",
   "metadata": {},
   "outputs": [],
   "source": [
    "#  Создаем список со шрифтами \n",
    "def listFonts(path):\n",
    "    list_fonts = []\n",
    "    currentDirectory = pathlib.Path(path)\n",
    "    for font in currentDirectory.iterdir():   \n",
    "        if str(font)[-3:] == 'ttf':\n",
    "            list_fonts.append(f\"{font}\")\n",
    "    return list_fonts[0], list_fonts[1], list_fonts[2] "
   ]
  },
  {
   "cell_type": "code",
   "execution_count": 6,
   "id": "85d66fa4",
   "metadata": {},
   "outputs": [],
   "source": [
    "# Получаем суп со страницы\n",
    "def make_soup(driver):\n",
    "    page_soup = driver.page_source\n",
    "    soup = BeautifulSoup(page_soup, 'lxml')\n",
    "    return soup"
   ]
  },
  {
   "cell_type": "code",
   "execution_count": 7,
   "id": "312678b8",
   "metadata": {},
   "outputs": [],
   "source": [
    "# Получаем главную страницу книги \n",
    "def title(author, book):\n",
    "    pdf.set_font('bold', '', 12)\n",
    "    pdf.cell(0, 144, f'{author}', 0, align='C')\n",
    "    pdf.ln(9)\n",
    "    pdf.set_font('bold', '', 14)\n",
    "    pdf.cell(0, 144, f'{book}', 0, align='C') "
   ]
  },
  {
   "cell_type": "markdown",
   "id": "17cea2b5",
   "metadata": {},
   "source": [
    "##### Определяемся, что будем искать. И указываем ключ поиска \n",
    "##### Запускаем драйвер, ищем книги по указанному ключу \n",
    "##### Выбираем книгу из списка и собираем в файл (проводим парсинг)"
   ]
  },
  {
   "cell_type": "code",
   "execution_count": 8,
   "id": "4e4a2b2b",
   "metadata": {},
   "outputs": [],
   "source": [
    "#  что и где ищем\n",
    "book_name = 'Яблоко'\n",
    "loveread_ec = 'http://loveread.ec/'"
   ]
  },
  {
   "cell_type": "code",
   "execution_count": 9,
   "id": "b0e51022",
   "metadata": {},
   "outputs": [
    {
     "name": "stdout",
     "output_type": "stream",
     "text": [
      "('font/Light.ttf', 'font/ThinItalic.ttf', 'font/Regular.ttf')\n"
     ]
    }
   ],
   "source": [
    "# Получаем список шрифтов \n",
    "fonts = listFonts('font')\n",
    "print(fonts)"
   ]
  },
  {
   "cell_type": "code",
   "execution_count": 52,
   "id": "8e114105",
   "metadata": {},
   "outputs": [
    {
     "data": {
      "text/plain": [
       "<selenium.webdriver.remote.webelement.WebElement (session=\"f71f1cc12e250a44b1c5bc0ca7e28af4\", element=\"A99BC8F57687E0955C3496EC777A0D43_element_969\")>"
      ]
     },
     "execution_count": 52,
     "metadata": {},
     "output_type": "execute_result"
    }
   ],
   "source": [
    "# Запуск\n",
    "driver = webdriver.Chrome(ChromeDriverManager().install())\n",
    "driver.get(loveread_ec)\n",
    "\n",
    "WebDriverWait(driver, 20).until(EC.presence_of_element_located((By.XPATH, '/html/body/table/tbody/tr[2]/td/table/tbody/tr/td[3]/div/form[2]')))"
   ]
  },
  {
   "cell_type": "code",
   "execution_count": 53,
   "id": "eb85c31c",
   "metadata": {},
   "outputs": [],
   "source": [
    "what_search = driver.find_element(By.XPATH, '//*[@id=\"search\"]').send_keys(book_name)\n",
    "btn_search = driver.find_element(By.XPATH, '/html/body/table/tbody/tr[2]/td/table/tbody/tr/td[3]/div/form[2]/input').send_keys(Keys.RETURN)"
   ]
  },
  {
   "cell_type": "code",
   "execution_count": 54,
   "id": "68300691",
   "metadata": {},
   "outputs": [],
   "source": [
    "df_books = pd.DataFrame(columns=['Имя книги', 'Автор'])\n",
    "fragments = ['Книга', ' - читать онлайн, бесплатно']"
   ]
  },
  {
   "cell_type": "code",
   "execution_count": 55,
   "id": "ae3df66b",
   "metadata": {},
   "outputs": [],
   "source": [
    "listBocks_soup = make_soup(driver)"
   ]
  },
  {
   "cell_type": "code",
   "execution_count": 56,
   "id": "ae300b36",
   "metadata": {},
   "outputs": [],
   "source": [
    "for el in listBocks_soup.find('ul', class_='let_ul').find_all('li'):\n",
    "    if el.get('class') != ['contents_bk']:\n",
    "        book = str(el.contents[1].get('title'))\n",
    "        author = el.contents[3].get('title')\n",
    "        new_row = {'Имя книги': book, 'Автор': author} #append row to the dataframe \n",
    "        df_books = df_books.append(new_row, ignore_index=True)"
   ]
  },
  {
   "cell_type": "code",
   "execution_count": 57,
   "id": "1b38eaf5",
   "metadata": {},
   "outputs": [],
   "source": [
    "df_books['Имя книги'] = df_books['Имя книги'].apply(name_book)\n",
    "df_books['Автор'] = df_books['Автор'].apply(name_author)"
   ]
  },
  {
   "cell_type": "code",
   "execution_count": 58,
   "id": "57eb461b",
   "metadata": {},
   "outputs": [
    {
     "data": {
      "text/html": [
       "<div><div id=c6040a14-c95d-45ea-a960-0b22eea66e0d style=\"display:none; background-color:#9D6CFF; color:white; width:200px; height:30px; padding-left:5px; border-radius:4px; flex-direction:row; justify-content:space-around; align-items:center;\" onmouseover=\"this.style.backgroundColor='#BA9BF8'\" onmouseout=\"this.style.backgroundColor='#9D6CFF'\" onclick=\"window.commands?.execute('create-mitosheet-from-dataframe-output');\">See Full Dataframe in Mito</div> <script> if (window.commands?.hasCommand('create-mitosheet-from-dataframe-output')) document.getElementById('c6040a14-c95d-45ea-a960-0b22eea66e0d').style.display = 'flex' </script> <table border=\"1\" class=\"dataframe\">\n",
       "  <thead>\n",
       "    <tr style=\"text-align: right;\">\n",
       "      <th></th>\n",
       "      <th>Имя книги</th>\n",
       "      <th>Автор</th>\n",
       "    </tr>\n",
       "  </thead>\n",
       "  <tbody>\n",
       "    <tr>\n",
       "      <th>0</th>\n",
       "      <td>Эммануэль. Мадам как яблоко и мед</td>\n",
       "      <td>Эммануэль Арсан</td>\n",
       "    </tr>\n",
       "    <tr>\n",
       "      <th>1</th>\n",
       "      <td>Яблоко Монте-Кристо</td>\n",
       "      <td>Дарья Донцова</td>\n",
       "    </tr>\n",
       "    <tr>\n",
       "      <th>2</th>\n",
       "      <td>Спелое яблоко раздора</td>\n",
       "      <td>Марина Серова</td>\n",
       "    </tr>\n",
       "    <tr>\n",
       "      <th>3</th>\n",
       "      <td>Яблоко раздора</td>\n",
       "      <td>Ирина Щеглова</td>\n",
       "    </tr>\n",
       "    <tr>\n",
       "      <th>4</th>\n",
       "      <td>Ведьмино яблоко раздора</td>\n",
       "      <td>Алина Егорова</td>\n",
       "    </tr>\n",
       "    <tr>\n",
       "      <th>5</th>\n",
       "      <td>Яблоко Евы</td>\n",
       "      <td>Инга Берристер</td>\n",
       "    </tr>\n",
       "    <tr>\n",
       "      <th>6</th>\n",
       "      <td>Яблоко Евы</td>\n",
       "      <td>Анхель де Куатьэ</td>\n",
       "    </tr>\n",
       "    <tr>\n",
       "      <th>7</th>\n",
       "      <td>Яблоко Купидона</td>\n",
       "      <td>Ольга Крючкова</td>\n",
       "    </tr>\n",
       "    <tr>\n",
       "      <th>8</th>\n",
       "      <td>Райское яблоко</td>\n",
       "      <td>Ирина Муравьева</td>\n",
       "    </tr>\n",
       "    <tr>\n",
       "      <th>9</th>\n",
       "      <td>Евино яблоко</td>\n",
       "      <td>Андрей Макаревич</td>\n",
       "    </tr>\n",
       "    <tr>\n",
       "      <th>10</th>\n",
       "      <td>Хрустальное яблоко</td>\n",
       "      <td>Олег Верещагин</td>\n",
       "    </tr>\n",
       "    <tr>\n",
       "      <th>11</th>\n",
       "      <td>Хрустальное яблоко</td>\n",
       "      <td>Алексей Иванович Ефимов</td>\n",
       "    </tr>\n",
       "    <tr>\n",
       "      <th>12</th>\n",
       "      <td>Спелое яблоко</td>\n",
       "      <td>Пола Льюис</td>\n",
       "    </tr>\n",
       "    <tr>\n",
       "      <th>13</th>\n",
       "      <td>Золотое яблоко</td>\n",
       "      <td>Роберт Антон Уилсон</td>\n",
       "    </tr>\n",
       "    <tr>\n",
       "      <th>14</th>\n",
       "      <td>Золотое яблоко</td>\n",
       "      <td>Роберт Шей</td>\n",
       "    </tr>\n",
       "    <tr>\n",
       "      <th>15</th>\n",
       "      <td>Третье яблоко Ньютона</td>\n",
       "      <td>Ольга Славина</td>\n",
       "    </tr>\n",
       "    <tr>\n",
       "      <th>16</th>\n",
       "      <td>Странное яблоко</td>\n",
       "      <td>Ольга Новикова</td>\n",
       "    </tr>\n",
       "    <tr>\n",
       "      <th>17</th>\n",
       "      <td>Яблоко для Адама</td>\n",
       "      <td>Элен Кэнди</td>\n",
       "    </tr>\n",
       "    <tr>\n",
       "      <th>18</th>\n",
       "      <td>Яблоко раздора</td>\n",
       "      <td>Екатерина Азарова</td>\n",
       "    </tr>\n",
       "    <tr>\n",
       "      <th>19</th>\n",
       "      <td>Яблоко по имени Марина</td>\n",
       "      <td>Николай Семченко</td>\n",
       "    </tr>\n",
       "    <tr>\n",
       "      <th>20</th>\n",
       "      <td>Яблоко. Рассказы о людях из \"Багрового лепестка\"</td>\n",
       "      <td>Мишель Фейбер</td>\n",
       "    </tr>\n",
       "    <tr>\n",
       "      <th>21</th>\n",
       "      <td>Надкушенное яблоко Гесперид</td>\n",
       "      <td>Анна Бялко</td>\n",
       "    </tr>\n",
       "    <tr>\n",
       "      <th>22</th>\n",
       "      <td>Адамово яблоко</td>\n",
       "      <td>Ольга Погодина-Кузьмина</td>\n",
       "    </tr>\n",
       "    <tr>\n",
       "      <th>23</th>\n",
       "      <td>Яблоко Евы</td>\n",
       "      <td>Пегги Морленд</td>\n",
       "    </tr>\n",
       "    <tr>\n",
       "      <th>24</th>\n",
       "      <td>Яблоко раздора</td>\n",
       "      <td>Лилиан Дарси</td>\n",
       "    </tr>\n",
       "    <tr>\n",
       "      <th>25</th>\n",
       "      <td>Яблоко</td>\n",
       "      <td>Ян Леф</td>\n",
       "    </tr>\n",
       "    <tr>\n",
       "      <th>26</th>\n",
       "      <td>Червивое яблоко. Моя жизнь со Стивом Джобсом</td>\n",
       "      <td>Крисанн Бреннан</td>\n",
       "    </tr>\n",
       "    <tr>\n",
       "      <th>27</th>\n",
       "      <td>Яблоко возмездия</td>\n",
       "      <td>Анна Ветлугина</td>\n",
       "    </tr>\n",
       "    <tr>\n",
       "      <th>28</th>\n",
       "      <td>На кого упало яблоко</td>\n",
       "      <td>Владимир Кессельман</td>\n",
       "    </tr>\n",
       "    <tr>\n",
       "      <th>29</th>\n",
       "      <td>Самое красное яблоко</td>\n",
       "      <td>Джезебел Морган</td>\n",
       "    </tr>\n",
       "  </tbody>\n",
       "</table></div>"
      ],
      "text/plain": [
       "                                           Имя книги                    Автор\n",
       "0                  Эммануэль. Мадам как яблоко и мед          Эммануэль Арсан\n",
       "1                                Яблоко Монте-Кристо            Дарья Донцова\n",
       "2                              Спелое яблоко раздора            Марина Серова\n",
       "3                                     Яблоко раздора            Ирина Щеглова\n",
       "4                            Ведьмино яблоко раздора            Алина Егорова\n",
       "5                                         Яблоко Евы           Инга Берристер\n",
       "6                                         Яблоко Евы         Анхель де Куатьэ\n",
       "7                                    Яблоко Купидона           Ольга Крючкова\n",
       "8                                     Райское яблоко          Ирина Муравьева\n",
       "9                                       Евино яблоко         Андрей Макаревич\n",
       "10                                Хрустальное яблоко           Олег Верещагин\n",
       "11                                Хрустальное яблоко  Алексей Иванович Ефимов\n",
       "12                                     Спелое яблоко               Пола Льюис\n",
       "13                                    Золотое яблоко      Роберт Антон Уилсон\n",
       "14                                    Золотое яблоко               Роберт Шей\n",
       "15                             Третье яблоко Ньютона            Ольга Славина\n",
       "16                                   Странное яблоко           Ольга Новикова\n",
       "17                                  Яблоко для Адама               Элен Кэнди\n",
       "18                                    Яблоко раздора        Екатерина Азарова\n",
       "19                            Яблоко по имени Марина         Николай Семченко\n",
       "20  Яблоко. Рассказы о людях из \"Багрового лепестка\"            Мишель Фейбер\n",
       "21                       Надкушенное яблоко Гесперид               Анна Бялко\n",
       "22                                    Адамово яблоко  Ольга Погодина-Кузьмина\n",
       "23                                        Яблоко Евы            Пегги Морленд\n",
       "24                                    Яблоко раздора             Лилиан Дарси\n",
       "25                                            Яблоко                   Ян Леф\n",
       "26      Червивое яблоко. Моя жизнь со Стивом Джобсом          Крисанн Бреннан\n",
       "27                                  Яблоко возмездия           Анна Ветлугина\n",
       "28                              На кого упало яблоко      Владимир Кессельман\n",
       "29                              Самое красное яблоко          Джезебел Морган"
      ]
     },
     "execution_count": 58,
     "metadata": {},
     "output_type": "execute_result"
    }
   ],
   "source": [
    "pd.set_option('display.min_rows', 100)\n",
    "pd.set_option('display.expand_frame_repr', True)\n",
    "\n",
    "df_books"
   ]
  },
  {
   "cell_type": "markdown",
   "id": "3f6cdf50",
   "metadata": {},
   "source": [
    "####  Интересует книга Ольги Новиковой. Выбираем её."
   ]
  },
  {
   "cell_type": "code",
   "execution_count": 59,
   "id": "c1a5e0a0",
   "metadata": {},
   "outputs": [],
   "source": [
    "index_book = 16"
   ]
  },
  {
   "cell_type": "code",
   "execution_count": 60,
   "id": "d0a3959f",
   "metadata": {},
   "outputs": [],
   "source": [
    "get_href_book = driver.find_element(By.XPATH, f'/html/body/table/tbody/tr[2]/td/table/tbody/tr/td[2]/div[1]/ul[1]/li[{index_book + 2}]/a[1]').get_attribute('href')\n",
    "driver.get(get_href_book)\n",
    "link_withuot_npage = driver.find_element(By.XPATH, '/html/body/table/tbody/tr[2]/td/table/tbody/tr/td[2]/table/tbody/tr/td/table/tbody/tr[3]/td/p[2]/a').get_attribute('href')[:-1]\n"
   ]
  },
  {
   "cell_type": "markdown",
   "id": "6ff77748",
   "metadata": {},
   "source": [
    "<div style ='margin: 50px 11px 0px 11px; '>\n",
    "    <p style=''>\n",
    "        Собираем данные о книге.<br></p>\n",
    "</div>\n"
   ]
  },
  {
   "cell_type": "code",
   "execution_count": 61,
   "id": "6c844615",
   "metadata": {},
   "outputs": [],
   "source": [
    "# Получаем имя автора и количество страниц \n",
    "author = driver.find_element(By.XPATH, '/html/body/table/tbody/tr[2]/td/table/tbody/tr/td[2]/table/tbody/tr/td/table/tbody/tr[2]/td/p/a[2]/strong').text\n",
    "driver.get(link_withuot_npage + '1')\n",
    "count_page = int(driver.find_element(By.XPATH, '//div[@class=\"navigation\"]//a[last()-1]').text)"
   ]
  },
  {
   "cell_type": "code",
   "execution_count": 62,
   "id": "b9981240",
   "metadata": {},
   "outputs": [],
   "source": [
    "# шрифты \n",
    "light, italic, bold = listFonts('font')"
   ]
  },
  {
   "cell_type": "markdown",
   "id": "11380e88",
   "metadata": {},
   "source": [
    "<div style ='margin: 11px 11px 0px 11px; '>\n",
    "    <p style=''>\n",
    "    Создаем PDF файл, далее в который записываем все данные.</p>\n",
    "</div>"
   ]
  },
  {
   "cell_type": "code",
   "execution_count": 63,
   "id": "e0c3d2ed",
   "metadata": {},
   "outputs": [],
   "source": [
    "# Создаю файл\n",
    "pdf = FPDF()\n",
    "pdf.add_page()"
   ]
  },
  {
   "cell_type": "code",
   "execution_count": 64,
   "id": "876fed7a",
   "metadata": {},
   "outputs": [],
   "source": [
    "# стилизуем\n",
    "pdf.add_font('light', '', f'{light}', uni=True)\n",
    "pdf.add_font('bold', '', f'{bold}', uni=True)\n",
    "pdf.add_font('italic', '', f'{italic}', uni=True)"
   ]
  },
  {
   "cell_type": "code",
   "execution_count": 65,
   "id": "8bd4bf2a",
   "metadata": {},
   "outputs": [],
   "source": [
    "# Заголовок \n",
    "title(author, book_name)"
   ]
  },
  {
   "cell_type": "code",
   "execution_count": 66,
   "id": "598cd84c",
   "metadata": {},
   "outputs": [],
   "source": [
    "pdf.add_page()"
   ]
  },
  {
   "cell_type": "code",
   "execution_count": 67,
   "id": "569ed58e",
   "metadata": {},
   "outputs": [],
   "source": [
    "for page in range(1, count_page + 1):\n",
    "    driver.get(link_withuot_npage + f'{page}')\n",
    "    WebDriverWait(driver, 20).until(EC.presence_of_element_located((By.XPATH, '/html/body/table/tbody/tr[2]/td/table/tbody/tr/td[2]')))\n",
    "    soup = make_soup(driver)\n",
    "    for el in soup.find('div', class_='MsoNormal').find_all(['div', 'p']): # , recursive=True\n",
    "        if (el.name == 'div') & (el.get('class') == ['take_h1']): # заголовок \n",
    "            pdf.ln(5)\n",
    "            pdf.set_font('bold', '', 12)\n",
    "            pdf.multi_cell(0, 4, txt=f'{el.text}',  align=\"C\")\n",
    "            pdf.ln(3)\n",
    "        elif el.get('class') == ['MsoNormal']: # основной текст \n",
    "            if (el.name == 'p') & (el.find_parents(limit=1)[0].get('class') != ['em']):\n",
    "                pdf.set_font('light', '', 9)\n",
    "                pdf.multi_cell(0, 5, txt=f'{el.text}', align='L')\n",
    "                pdf.set_left_margin(30)\n",
    "                pdf.set_right_margin(34)\n",
    "                pdf.ln(2)\n",
    "            else:\n",
    "                pdf.set_font('italic', '', 9)\n",
    "                pdf.multi_cell(0, 4, txt=f'{el.text}', align=\"L\")\n",
    "        elif (el.get('class') == ['strong']) & (el.name == 'p'):\n",
    "            if el.text != 'Я есть богатство. Я есть изобилие. Я есть радость':\n",
    "                pdf.set_font('bold', '', 9)\n",
    "                pdf.multi_cell(0, 12, txt=f'{el.text}', align='L')\n",
    "            else:\n",
    "                pdf.ln(4)\n",
    "        else:\n",
    "            continue"
   ]
  },
  {
   "cell_type": "code",
   "execution_count": 68,
   "id": "fcfc8845",
   "metadata": {
    "scrolled": true
   },
   "outputs": [
    {
     "data": {
      "text/plain": [
       "''"
      ]
     },
     "execution_count": 68,
     "metadata": {},
     "output_type": "execute_result"
    }
   ],
   "source": [
    "pdf.output(f\"{book_name}.pdf\")"
   ]
  },
  {
   "cell_type": "code",
   "execution_count": 69,
   "id": "2fc3a9f4",
   "metadata": {},
   "outputs": [],
   "source": [
    "driver.quit() "
   ]
  },
  {
   "cell_type": "markdown",
   "id": "7f32d94d",
   "metadata": {},
   "source": [
    "<div style ='margin: 14px 0; '>\n",
    "    <p style='font-size: 16px'>\n",
    "        Закрываем файл, можно его потрогать тут \n",
    "<a>https://github.com/AnfisaAnalytics/myProfile/blob/main/files/Яблоко.pdf</a> . Работу драйвера завершим.</p>\n",
    "</div>"
   ]
  },
  {
   "cell_type": "markdown",
   "id": "18d9f20d",
   "metadata": {},
   "source": [
    "## Задача выполнена"
   ]
  }
 ],
 "metadata": {
  "kernelspec": {
   "display_name": "Python 3 (ipykernel)",
   "language": "python",
   "name": "python3"
  },
  "language_info": {
   "codemirror_mode": {
    "name": "ipython",
    "version": 3
   },
   "file_extension": ".py",
   "mimetype": "text/x-python",
   "name": "python",
   "nbconvert_exporter": "python",
   "pygments_lexer": "ipython3",
   "version": "3.9.13"
  }
 },
 "nbformat": 4,
 "nbformat_minor": 5
}
